{
 "cells": [
  {
   "cell_type": "code",
   "execution_count": 1,
   "metadata": {
    "colab": {
     "base_uri": "https://localhost:8080/"
    },
    "executionInfo": {
     "elapsed": 2238,
     "status": "ok",
     "timestamp": 1747106279105,
     "user": {
      "displayName": "Nurhaliza Siti",
      "userId": "15170904103866122325"
     },
     "user_tz": -480
    },
    "id": "_Is8Jha1GlI0",
    "outputId": "ce427d78-3bff-4b04-f9b8-19a78462bebb"
   },
   "outputs": [
    {
     "name": "stdout",
     "output_type": "stream",
     "text": [
      "Requirement already satisfied: pytorch_msssim in /usr/local/lib/python3.11/dist-packages (1.0.0)\n",
      "Requirement already satisfied: torch in /usr/local/lib/python3.11/dist-packages (from pytorch_msssim) (2.6.0+cu124)\n",
      "Requirement already satisfied: filelock in /usr/local/lib/python3.11/dist-packages (from torch->pytorch_msssim) (3.18.0)\n",
      "Requirement already satisfied: typing-extensions>=4.10.0 in /usr/local/lib/python3.11/dist-packages (from torch->pytorch_msssim) (4.13.2)\n",
      "Requirement already satisfied: networkx in /usr/local/lib/python3.11/dist-packages (from torch->pytorch_msssim) (3.4.2)\n",
      "Requirement already satisfied: jinja2 in /usr/local/lib/python3.11/dist-packages (from torch->pytorch_msssim) (3.1.6)\n",
      "Requirement already satisfied: fsspec in /usr/local/lib/python3.11/dist-packages (from torch->pytorch_msssim) (2025.3.2)\n",
      "Requirement already satisfied: nvidia-cuda-nvrtc-cu12==12.4.127 in /usr/local/lib/python3.11/dist-packages (from torch->pytorch_msssim) (12.4.127)\n",
      "Requirement already satisfied: nvidia-cuda-runtime-cu12==12.4.127 in /usr/local/lib/python3.11/dist-packages (from torch->pytorch_msssim) (12.4.127)\n",
      "Requirement already satisfied: nvidia-cuda-cupti-cu12==12.4.127 in /usr/local/lib/python3.11/dist-packages (from torch->pytorch_msssim) (12.4.127)\n",
      "Requirement already satisfied: nvidia-cudnn-cu12==9.1.0.70 in /usr/local/lib/python3.11/dist-packages (from torch->pytorch_msssim) (9.1.0.70)\n",
      "Requirement already satisfied: nvidia-cublas-cu12==12.4.5.8 in /usr/local/lib/python3.11/dist-packages (from torch->pytorch_msssim) (12.4.5.8)\n",
      "Requirement already satisfied: nvidia-cufft-cu12==11.2.1.3 in /usr/local/lib/python3.11/dist-packages (from torch->pytorch_msssim) (11.2.1.3)\n",
      "Requirement already satisfied: nvidia-curand-cu12==10.3.5.147 in /usr/local/lib/python3.11/dist-packages (from torch->pytorch_msssim) (10.3.5.147)\n",
      "Requirement already satisfied: nvidia-cusolver-cu12==11.6.1.9 in /usr/local/lib/python3.11/dist-packages (from torch->pytorch_msssim) (11.6.1.9)\n",
      "Requirement already satisfied: nvidia-cusparse-cu12==12.3.1.170 in /usr/local/lib/python3.11/dist-packages (from torch->pytorch_msssim) (12.3.1.170)\n",
      "Requirement already satisfied: nvidia-cusparselt-cu12==0.6.2 in /usr/local/lib/python3.11/dist-packages (from torch->pytorch_msssim) (0.6.2)\n",
      "Requirement already satisfied: nvidia-nccl-cu12==2.21.5 in /usr/local/lib/python3.11/dist-packages (from torch->pytorch_msssim) (2.21.5)\n",
      "Requirement already satisfied: nvidia-nvtx-cu12==12.4.127 in /usr/local/lib/python3.11/dist-packages (from torch->pytorch_msssim) (12.4.127)\n",
      "Requirement already satisfied: nvidia-nvjitlink-cu12==12.4.127 in /usr/local/lib/python3.11/dist-packages (from torch->pytorch_msssim) (12.4.127)\n",
      "Requirement already satisfied: triton==3.2.0 in /usr/local/lib/python3.11/dist-packages (from torch->pytorch_msssim) (3.2.0)\n",
      "Requirement already satisfied: sympy==1.13.1 in /usr/local/lib/python3.11/dist-packages (from torch->pytorch_msssim) (1.13.1)\n",
      "Requirement already satisfied: mpmath<1.4,>=1.1.0 in /usr/local/lib/python3.11/dist-packages (from sympy==1.13.1->torch->pytorch_msssim) (1.3.0)\n",
      "Requirement already satisfied: MarkupSafe>=2.0 in /usr/local/lib/python3.11/dist-packages (from jinja2->torch->pytorch_msssim) (3.0.2)\n"
     ]
    }
   ],
   "source": [
    "pip install pytorch_msssim"
   ]
  },
  {
   "cell_type": "code",
   "execution_count": 2,
   "metadata": {
    "colab": {
     "base_uri": "https://localhost:8080/"
    },
    "executionInfo": {
     "elapsed": 3536,
     "status": "ok",
     "timestamp": 1747106282643,
     "user": {
      "displayName": "Nurhaliza Siti",
      "userId": "15170904103866122325"
     },
     "user_tz": -480
    },
    "id": "LuNr3IHuz6ZN",
    "outputId": "ec1c49ee-66a3-4fcb-9cce-554fddc7755f"
   },
   "outputs": [
    {
     "name": "stdout",
     "output_type": "stream",
     "text": [
      "Drive already mounted at /content/drive; to attempt to forcibly remount, call drive.mount(\"/content/drive\", force_remount=True).\n"
     ]
    },
    {
     "data": {
      "text/plain": [
       "['train.npz',\n",
       " 'label2type.txt',\n",
       " 'model2.py',\n",
       " 'train2.ipynb',\n",
       " 'train.ipynb',\n",
       " 'model_demo.py',\n",
       " 'model.py',\n",
       " 'demo.ipynb',\n",
       " 'reconstructions.png']"
      ]
     },
     "execution_count": 2,
     "metadata": {},
     "output_type": "execute_result"
    }
   ],
   "source": [
    "# Mount to Google Drive & Switch to the dataset directory\n",
    "import os\n",
    "from google.colab import drive\n",
    "drive.mount('/content/drive')\n",
    "\n",
    "os.chdir(\"/content/drive/MyDrive/ml final competition\")\n",
    "os.listdir()"
   ]
  },
  {
   "cell_type": "code",
   "execution_count": null,
   "metadata": {
    "colab": {
     "base_uri": "https://localhost:8080/",
     "height": 1000
    },
    "executionInfo": {
     "elapsed": 2978407,
     "status": "ok",
     "timestamp": 1747109261052,
     "user": {
      "displayName": "Nurhaliza Siti",
      "userId": "15170904103866122325"
     },
     "user_tz": -480
    },
    "id": "fDeF9M-ezor1",
    "outputId": "15c24d16-9814-469e-b860-781b45e1e260"
   },
   "outputs": [
    {
     "name": "stdout",
     "output_type": "stream",
     "text": [
      "train.npz: images shape (18900, 3, 128, 128), labels shape (18900,)\n",
      "images shape: torch.Size([256, 3, 128, 128])\n",
      "labels shape: torch.Size([256])\n",
      "Current learning rate: 0.0001\n"
     ]
    },
    {
     "name": "stderr",
     "output_type": "stream",
     "text": [
      "Epoch 1/230: 100%|██████████| 74/74 [00:13<00:00,  5.46it/s, kl=2.32, klw=0, loss=0.622, recon=0.622]\n"
     ]
    },
    {
     "name": "stdout",
     "output_type": "stream",
     "text": [
      "AVG LOSS: 0.789703\n",
      "Current learning rate: 0.0001\n"
     ]
    },
    {
     "name": "stderr",
     "output_type": "stream",
     "text": [
      "Epoch 2/230: 100%|██████████| 74/74 [00:12<00:00,  5.84it/s, kl=2.77, klw=5e-5, loss=0.326, recon=0.326]\n"
     ]
    },
    {
     "name": "stdout",
     "output_type": "stream",
     "text": [
      "AVG LOSS: 0.463909\n",
      "Current learning rate: 0.0001\n"
     ]
    },
    {
     "name": "stderr",
     "output_type": "stream",
     "text": [
      "Epoch 3/230: 100%|██████████| 74/74 [00:12<00:00,  5.83it/s, kl=3.4, klw=0.0001, loss=0.156, recon=0.156]\n"
     ]
    },
    {
     "name": "stdout",
     "output_type": "stream",
     "text": [
      "AVG LOSS: 0.222777\n",
      "Current learning rate: 0.0001\n"
     ]
    },
    {
     "name": "stderr",
     "output_type": "stream",
     "text": [
      "Epoch 4/230: 100%|██████████| 74/74 [00:12<00:00,  5.84it/s, kl=3.19, klw=0.00015, loss=0.112, recon=0.111]\n"
     ]
    },
    {
     "name": "stdout",
     "output_type": "stream",
     "text": [
      "AVG LOSS: 0.137256\n",
      "Current learning rate: 0.0001\n"
     ]
    },
    {
     "name": "stderr",
     "output_type": "stream",
     "text": [
      "Epoch 5/230: 100%|██████████| 74/74 [00:12<00:00,  5.84it/s, kl=3.01, klw=0.0002, loss=0.0854, recon=0.0848]\n"
     ]
    },
    {
     "name": "stdout",
     "output_type": "stream",
     "text": [
      "AVG LOSS: 0.098649\n",
      "Current learning rate: 0.0001\n"
     ]
    },
    {
     "name": "stderr",
     "output_type": "stream",
     "text": [
      "Epoch 6/230: 100%|██████████| 74/74 [00:12<00:00,  5.82it/s, kl=2.85, klw=0.00025, loss=0.0748, recon=0.0741]\n"
     ]
    },
    {
     "name": "stdout",
     "output_type": "stream",
     "text": [
      "AVG LOSS: 0.081390\n",
      "Current learning rate: 0.0001\n"
     ]
    },
    {
     "name": "stderr",
     "output_type": "stream",
     "text": [
      "Epoch 7/230: 100%|██████████| 74/74 [00:12<00:00,  5.83it/s, kl=2.7, klw=0.0003, loss=0.0678, recon=0.067]\n"
     ]
    },
    {
     "name": "stdout",
     "output_type": "stream",
     "text": [
      "AVG LOSS: 0.072522\n",
      "Current learning rate: 0.0001\n"
     ]
    },
    {
     "name": "stderr",
     "output_type": "stream",
     "text": [
      "Epoch 8/230: 100%|██████████| 74/74 [00:12<00:00,  5.83it/s, kl=2.6, klw=0.00035, loss=0.0628, recon=0.0619]\n"
     ]
    },
    {
     "name": "stdout",
     "output_type": "stream",
     "text": [
      "AVG LOSS: 0.064750\n",
      "Current learning rate: 0.0001\n"
     ]
    },
    {
     "name": "stderr",
     "output_type": "stream",
     "text": [
      "Epoch 9/230: 100%|██████████| 74/74 [00:12<00:00,  5.80it/s, kl=2.52, klw=0.0004, loss=0.0642, recon=0.0632]\n"
     ]
    },
    {
     "name": "stdout",
     "output_type": "stream",
     "text": [
      "AVG LOSS: 0.059965\n",
      "Current learning rate: 0.0001\n"
     ]
    },
    {
     "name": "stderr",
     "output_type": "stream",
     "text": [
      "Epoch 10/230: 100%|██████████| 74/74 [00:12<00:00,  5.83it/s, kl=2.43, klw=0.00045, loss=0.0547, recon=0.0536]\n"
     ]
    },
    {
     "name": "stdout",
     "output_type": "stream",
     "text": [
      "AVG LOSS: 0.055810\n",
      "Current learning rate: 0.0001\n"
     ]
    },
    {
     "name": "stderr",
     "output_type": "stream",
     "text": [
      "Epoch 11/230: 100%|██████████| 74/74 [00:12<00:00,  5.83it/s, kl=2.34, klw=0.0005, loss=0.0496, recon=0.0484]\n"
     ]
    },
    {
     "name": "stdout",
     "output_type": "stream",
     "text": [
      "AVG LOSS: 0.052294\n",
      "Current learning rate: 0.0001\n"
     ]
    },
    {
     "name": "stderr",
     "output_type": "stream",
     "text": [
      "Epoch 12/230: 100%|██████████| 74/74 [00:12<00:00,  5.83it/s, kl=2.23, klw=0.00055, loss=0.0474, recon=0.0461]\n"
     ]
    },
    {
     "name": "stdout",
     "output_type": "stream",
     "text": [
      "AVG LOSS: 0.049696\n",
      "Current learning rate: 0.0001\n"
     ]
    },
    {
     "name": "stderr",
     "output_type": "stream",
     "text": [
      "Epoch 13/230: 100%|██████████| 74/74 [00:12<00:00,  5.83it/s, kl=2.19, klw=0.0006, loss=0.0472, recon=0.0459]\n"
     ]
    },
    {
     "name": "stdout",
     "output_type": "stream",
     "text": [
      "AVG LOSS: 0.047768\n",
      "Current learning rate: 0.0001\n"
     ]
    },
    {
     "name": "stderr",
     "output_type": "stream",
     "text": [
      "Epoch 14/230: 100%|██████████| 74/74 [00:12<00:00,  5.83it/s, kl=2.14, klw=0.00065, loss=0.0475, recon=0.0461]\n"
     ]
    },
    {
     "name": "stdout",
     "output_type": "stream",
     "text": [
      "AVG LOSS: 0.046406\n",
      "Current learning rate: 0.0001\n"
     ]
    },
    {
     "name": "stderr",
     "output_type": "stream",
     "text": [
      "Epoch 15/230: 100%|██████████| 74/74 [00:12<00:00,  5.86it/s, kl=2.07, klw=0.0007, loss=0.045, recon=0.0435]\n"
     ]
    },
    {
     "name": "stdout",
     "output_type": "stream",
     "text": [
      "AVG LOSS: 0.044470\n",
      "Current learning rate: 0.0001\n"
     ]
    },
    {
     "name": "stderr",
     "output_type": "stream",
     "text": [
      "Epoch 16/230: 100%|██████████| 74/74 [00:12<00:00,  5.86it/s, kl=2.03, klw=0.00075, loss=0.0451, recon=0.0435]\n"
     ]
    },
    {
     "name": "stdout",
     "output_type": "stream",
     "text": [
      "AVG LOSS: 0.043350\n",
      "Current learning rate: 0.0001\n"
     ]
    },
    {
     "name": "stderr",
     "output_type": "stream",
     "text": [
      "Epoch 17/230: 100%|██████████| 74/74 [00:12<00:00,  5.81it/s, kl=1.98, klw=0.0008, loss=0.0432, recon=0.0416]\n"
     ]
    },
    {
     "name": "stdout",
     "output_type": "stream",
     "text": [
      "AVG LOSS: 0.042483\n",
      "Current learning rate: 0.0001\n"
     ]
    },
    {
     "name": "stderr",
     "output_type": "stream",
     "text": [
      "Epoch 18/230: 100%|██████████| 74/74 [00:12<00:00,  5.84it/s, kl=1.92, klw=0.00085, loss=0.0391, recon=0.0375]\n"
     ]
    },
    {
     "name": "stdout",
     "output_type": "stream",
     "text": [
      "AVG LOSS: 0.040873\n",
      "Current learning rate: 0.0001\n"
     ]
    },
    {
     "name": "stderr",
     "output_type": "stream",
     "text": [
      "Epoch 19/230: 100%|██████████| 74/74 [00:12<00:00,  5.84it/s, kl=1.89, klw=0.0009, loss=0.0405, recon=0.0388]\n"
     ]
    },
    {
     "name": "stdout",
     "output_type": "stream",
     "text": [
      "AVG LOSS: 0.040325\n",
      "Current learning rate: 0.0001\n"
     ]
    },
    {
     "name": "stderr",
     "output_type": "stream",
     "text": [
      "Epoch 20/230: 100%|██████████| 74/74 [00:12<00:00,  5.82it/s, kl=1.86, klw=0.00095, loss=0.0365, recon=0.0348]\n"
     ]
    },
    {
     "name": "stdout",
     "output_type": "stream",
     "text": [
      "AVG LOSS: 0.039963\n",
      "Current learning rate: 0.0001\n"
     ]
    },
    {
     "name": "stderr",
     "output_type": "stream",
     "text": [
      "Epoch 21/230: 100%|██████████| 74/74 [00:12<00:00,  5.83it/s, kl=1.82, klw=0.001, loss=0.0361, recon=0.0343]\n"
     ]
    },
    {
     "name": "stdout",
     "output_type": "stream",
     "text": [
      "AVG LOSS: 0.038863\n",
      "Current learning rate: 0.0001\n"
     ]
    },
    {
     "name": "stderr",
     "output_type": "stream",
     "text": [
      "Epoch 22/230: 100%|██████████| 74/74 [00:12<00:00,  5.86it/s, kl=1.81, klw=0.001, loss=0.0405, recon=0.0387]\n"
     ]
    },
    {
     "name": "stdout",
     "output_type": "stream",
     "text": [
      "AVG LOSS: 0.038640\n",
      "Current learning rate: 0.0001\n"
     ]
    },
    {
     "name": "stderr",
     "output_type": "stream",
     "text": [
      "Epoch 23/230: 100%|██████████| 74/74 [00:12<00:00,  5.81it/s, kl=1.8, klw=0.001, loss=0.0381, recon=0.0363]\n"
     ]
    },
    {
     "name": "stdout",
     "output_type": "stream",
     "text": [
      "AVG LOSS: 0.038266\n",
      "Current learning rate: 0.0001\n"
     ]
    },
    {
     "name": "stderr",
     "output_type": "stream",
     "text": [
      "Epoch 24/230: 100%|██████████| 74/74 [00:12<00:00,  5.83it/s, kl=1.79, klw=0.001, loss=0.0361, recon=0.0343]\n"
     ]
    },
    {
     "name": "stdout",
     "output_type": "stream",
     "text": [
      "AVG LOSS: 0.038422\n",
      "Current learning rate: 0.0001\n"
     ]
    },
    {
     "name": "stderr",
     "output_type": "stream",
     "text": [
      "Epoch 25/230: 100%|██████████| 74/74 [00:12<00:00,  5.84it/s, kl=1.77, klw=0.001, loss=0.0364, recon=0.0346]\n"
     ]
    },
    {
     "name": "stdout",
     "output_type": "stream",
     "text": [
      "AVG LOSS: 0.036991\n",
      "Current learning rate: 0.0001\n"
     ]
    },
    {
     "name": "stderr",
     "output_type": "stream",
     "text": [
      "Epoch 26/230: 100%|██████████| 74/74 [00:12<00:00,  5.83it/s, kl=1.77, klw=0.001, loss=0.0368, recon=0.035]\n"
     ]
    },
    {
     "name": "stdout",
     "output_type": "stream",
     "text": [
      "AVG LOSS: 0.037068\n",
      "Current learning rate: 0.0001\n"
     ]
    },
    {
     "name": "stderr",
     "output_type": "stream",
     "text": [
      "Epoch 27/230: 100%|██████████| 74/74 [00:12<00:00,  5.80it/s, kl=1.75, klw=0.001, loss=0.0384, recon=0.0367]\n"
     ]
    },
    {
     "name": "stdout",
     "output_type": "stream",
     "text": [
      "AVG LOSS: 0.036592\n",
      "Current learning rate: 0.0001\n"
     ]
    },
    {
     "name": "stderr",
     "output_type": "stream",
     "text": [
      "Epoch 28/230: 100%|██████████| 74/74 [00:12<00:00,  5.85it/s, kl=1.74, klw=0.001, loss=0.0353, recon=0.0336]\n"
     ]
    },
    {
     "name": "stdout",
     "output_type": "stream",
     "text": [
      "AVG LOSS: 0.035942\n",
      "Current learning rate: 0.0001\n"
     ]
    },
    {
     "name": "stderr",
     "output_type": "stream",
     "text": [
      "Epoch 29/230: 100%|██████████| 74/74 [00:12<00:00,  5.84it/s, kl=1.73, klw=0.001, loss=0.035, recon=0.0332]\n"
     ]
    },
    {
     "name": "stdout",
     "output_type": "stream",
     "text": [
      "AVG LOSS: 0.035757\n",
      "Current learning rate: 0.0001\n"
     ]
    },
    {
     "name": "stderr",
     "output_type": "stream",
     "text": [
      "Epoch 30/230: 100%|██████████| 74/74 [00:12<00:00,  5.81it/s, kl=1.73, klw=0.001, loss=0.037, recon=0.0353]\n"
     ]
    },
    {
     "name": "stdout",
     "output_type": "stream",
     "text": [
      "AVG LOSS: 0.035695\n",
      "Current learning rate: 0.0001\n"
     ]
    },
    {
     "name": "stderr",
     "output_type": "stream",
     "text": [
      "Epoch 31/230: 100%|██████████| 74/74 [00:12<00:00,  5.82it/s, kl=1.73, klw=0.001, loss=0.036, recon=0.0342]\n"
     ]
    },
    {
     "name": "stdout",
     "output_type": "stream",
     "text": [
      "AVG LOSS: 0.035197\n",
      "Current learning rate: 0.0001\n"
     ]
    },
    {
     "name": "stderr",
     "output_type": "stream",
     "text": [
      "Epoch 32/230: 100%|██████████| 74/74 [00:12<00:00,  5.83it/s, kl=1.73, klw=0.001, loss=0.0337, recon=0.0319]\n"
     ]
    },
    {
     "name": "stdout",
     "output_type": "stream",
     "text": [
      "AVG LOSS: 0.034858\n",
      "Current learning rate: 0.0001\n"
     ]
    },
    {
     "name": "stderr",
     "output_type": "stream",
     "text": [
      "Epoch 33/230: 100%|██████████| 74/74 [00:12<00:00,  5.85it/s, kl=1.72, klw=0.001, loss=0.0375, recon=0.0358]\n"
     ]
    },
    {
     "name": "stdout",
     "output_type": "stream",
     "text": [
      "AVG LOSS: 0.035034\n",
      "Current learning rate: 0.0001\n"
     ]
    },
    {
     "name": "stderr",
     "output_type": "stream",
     "text": [
      "Epoch 34/230: 100%|██████████| 74/74 [00:12<00:00,  5.81it/s, kl=1.72, klw=0.001, loss=0.0332, recon=0.0315]\n"
     ]
    },
    {
     "name": "stdout",
     "output_type": "stream",
     "text": [
      "AVG LOSS: 0.034649\n",
      "Current learning rate: 0.0001\n"
     ]
    },
    {
     "name": "stderr",
     "output_type": "stream",
     "text": [
      "Epoch 35/230: 100%|██████████| 74/74 [00:12<00:00,  5.79it/s, kl=1.71, klw=0.001, loss=0.0339, recon=0.0322]\n"
     ]
    },
    {
     "name": "stdout",
     "output_type": "stream",
     "text": [
      "AVG LOSS: 0.034314\n",
      "Current learning rate: 0.0001\n"
     ]
    },
    {
     "name": "stderr",
     "output_type": "stream",
     "text": [
      "Epoch 36/230: 100%|██████████| 74/74 [00:12<00:00,  5.81it/s, kl=1.7, klw=0.001, loss=0.0339, recon=0.0322]\n"
     ]
    },
    {
     "name": "stdout",
     "output_type": "stream",
     "text": [
      "AVG LOSS: 0.034004\n",
      "Current learning rate: 0.0001\n"
     ]
    },
    {
     "name": "stderr",
     "output_type": "stream",
     "text": [
      "Epoch 37/230: 100%|██████████| 74/74 [00:12<00:00,  5.82it/s, kl=1.7, klw=0.001, loss=0.0355, recon=0.0338]\n"
     ]
    },
    {
     "name": "stdout",
     "output_type": "stream",
     "text": [
      "AVG LOSS: 0.033962\n",
      "Current learning rate: 0.0001\n"
     ]
    },
    {
     "name": "stderr",
     "output_type": "stream",
     "text": [
      "Epoch 38/230: 100%|██████████| 74/74 [00:12<00:00,  5.80it/s, kl=1.71, klw=0.001, loss=0.0337, recon=0.0319]\n"
     ]
    },
    {
     "name": "stdout",
     "output_type": "stream",
     "text": [
      "AVG LOSS: 0.033764\n",
      "Current learning rate: 0.0001\n"
     ]
    },
    {
     "name": "stderr",
     "output_type": "stream",
     "text": [
      "Epoch 39/230: 100%|██████████| 74/74 [00:12<00:00,  5.84it/s, kl=1.69, klw=0.001, loss=0.035, recon=0.0333]\n"
     ]
    },
    {
     "name": "stdout",
     "output_type": "stream",
     "text": [
      "AVG LOSS: 0.033470\n",
      "Current learning rate: 0.0001\n"
     ]
    },
    {
     "name": "stderr",
     "output_type": "stream",
     "text": [
      "Epoch 40/230: 100%|██████████| 74/74 [00:12<00:00,  5.85it/s, kl=1.68, klw=0.001, loss=0.0327, recon=0.031]\n"
     ]
    },
    {
     "name": "stdout",
     "output_type": "stream",
     "text": [
      "AVG LOSS: 0.033347\n",
      "Current learning rate: 0.0001\n"
     ]
    },
    {
     "name": "stderr",
     "output_type": "stream",
     "text": [
      "Epoch 41/230: 100%|██████████| 74/74 [00:12<00:00,  5.82it/s, kl=1.68, klw=0.001, loss=0.0344, recon=0.0328]\n"
     ]
    },
    {
     "name": "stdout",
     "output_type": "stream",
     "text": [
      "AVG LOSS: 0.033205\n",
      "Current learning rate: 0.0001\n"
     ]
    },
    {
     "name": "stderr",
     "output_type": "stream",
     "text": [
      "Epoch 42/230: 100%|██████████| 74/74 [00:12<00:00,  5.79it/s, kl=1.67, klw=0.001, loss=0.0314, recon=0.0297]\n"
     ]
    },
    {
     "name": "stdout",
     "output_type": "stream",
     "text": [
      "AVG LOSS: 0.032957\n",
      "Current learning rate: 0.0001\n"
     ]
    },
    {
     "name": "stderr",
     "output_type": "stream",
     "text": [
      "Epoch 43/230: 100%|██████████| 74/74 [00:12<00:00,  5.84it/s, kl=1.68, klw=0.001, loss=0.034, recon=0.0323]\n"
     ]
    },
    {
     "name": "stdout",
     "output_type": "stream",
     "text": [
      "AVG LOSS: 0.032784\n",
      "Current learning rate: 0.0001\n"
     ]
    },
    {
     "name": "stderr",
     "output_type": "stream",
     "text": [
      "Epoch 44/230: 100%|██████████| 74/74 [00:12<00:00,  5.80it/s, kl=1.66, klw=0.001, loss=0.0332, recon=0.0316]\n"
     ]
    },
    {
     "name": "stdout",
     "output_type": "stream",
     "text": [
      "AVG LOSS: 0.032499\n",
      "Current learning rate: 0.0001\n"
     ]
    },
    {
     "name": "stderr",
     "output_type": "stream",
     "text": [
      "Epoch 45/230: 100%|██████████| 74/74 [00:12<00:00,  5.83it/s, kl=1.67, klw=0.001, loss=0.0333, recon=0.0317]\n"
     ]
    },
    {
     "name": "stdout",
     "output_type": "stream",
     "text": [
      "AVG LOSS: 0.033230\n",
      "Current learning rate: 0.0001\n"
     ]
    },
    {
     "name": "stderr",
     "output_type": "stream",
     "text": [
      "Epoch 46/230: 100%|██████████| 74/74 [00:12<00:00,  5.81it/s, kl=1.66, klw=0.001, loss=0.0293, recon=0.0276]\n"
     ]
    },
    {
     "name": "stdout",
     "output_type": "stream",
     "text": [
      "AVG LOSS: 0.032360\n",
      "Current learning rate: 0.0001\n"
     ]
    },
    {
     "name": "stderr",
     "output_type": "stream",
     "text": [
      "Epoch 47/230: 100%|██████████| 74/74 [00:12<00:00,  5.85it/s, kl=1.67, klw=0.001, loss=0.0328, recon=0.0311]\n"
     ]
    },
    {
     "name": "stdout",
     "output_type": "stream",
     "text": [
      "AVG LOSS: 0.032088\n",
      "Current learning rate: 0.0001\n"
     ]
    },
    {
     "name": "stderr",
     "output_type": "stream",
     "text": [
      "Epoch 48/230: 100%|██████████| 74/74 [00:12<00:00,  5.81it/s, kl=1.66, klw=0.001, loss=0.0326, recon=0.0309]\n"
     ]
    },
    {
     "name": "stdout",
     "output_type": "stream",
     "text": [
      "AVG LOSS: 0.031668\n",
      "Current learning rate: 0.0001\n"
     ]
    },
    {
     "name": "stderr",
     "output_type": "stream",
     "text": [
      "Epoch 49/230: 100%|██████████| 74/74 [00:12<00:00,  5.82it/s, kl=1.66, klw=0.001, loss=0.0295, recon=0.0279]\n"
     ]
    },
    {
     "name": "stdout",
     "output_type": "stream",
     "text": [
      "AVG LOSS: 0.031791\n",
      "Current learning rate: 0.0001\n"
     ]
    },
    {
     "name": "stderr",
     "output_type": "stream",
     "text": [
      "Epoch 50/230: 100%|██████████| 74/74 [00:12<00:00,  5.82it/s, kl=1.66, klw=0.001, loss=0.0304, recon=0.0288]\n"
     ]
    },
    {
     "name": "stdout",
     "output_type": "stream",
     "text": [
      "AVG LOSS: 0.031428\n",
      "Current learning rate: 0.0001\n"
     ]
    },
    {
     "name": "stderr",
     "output_type": "stream",
     "text": [
      "Epoch 51/230: 100%|██████████| 74/74 [00:12<00:00,  5.82it/s, kl=1.64, klw=0.001, loss=0.0286, recon=0.027]\n"
     ]
    },
    {
     "name": "stdout",
     "output_type": "stream",
     "text": [
      "AVG LOSS: 0.031478\n",
      "Current learning rate: 0.0001\n"
     ]
    },
    {
     "name": "stderr",
     "output_type": "stream",
     "text": [
      "Epoch 52/230: 100%|██████████| 74/74 [00:12<00:00,  5.84it/s, kl=1.64, klw=0.001, loss=0.0309, recon=0.0293]\n"
     ]
    },
    {
     "name": "stdout",
     "output_type": "stream",
     "text": [
      "AVG LOSS: 0.031417\n",
      "Current learning rate: 0.0001\n"
     ]
    },
    {
     "name": "stderr",
     "output_type": "stream",
     "text": [
      "Epoch 53/230: 100%|██████████| 74/74 [00:12<00:00,  5.81it/s, kl=1.63, klw=0.001, loss=0.0294, recon=0.0278]\n"
     ]
    },
    {
     "name": "stdout",
     "output_type": "stream",
     "text": [
      "AVG LOSS: 0.031190\n",
      "Current learning rate: 0.0001\n"
     ]
    },
    {
     "name": "stderr",
     "output_type": "stream",
     "text": [
      "Epoch 54/230: 100%|██████████| 74/74 [00:12<00:00,  5.84it/s, kl=1.64, klw=0.001, loss=0.0325, recon=0.0309]\n"
     ]
    },
    {
     "name": "stdout",
     "output_type": "stream",
     "text": [
      "AVG LOSS: 0.031304\n",
      "Current learning rate: 0.0001\n"
     ]
    },
    {
     "name": "stderr",
     "output_type": "stream",
     "text": [
      "Epoch 55/230: 100%|██████████| 74/74 [00:12<00:00,  5.84it/s, kl=1.63, klw=0.001, loss=0.0291, recon=0.0275]\n"
     ]
    },
    {
     "name": "stdout",
     "output_type": "stream",
     "text": [
      "AVG LOSS: 0.030978\n",
      "Current learning rate: 0.0001\n"
     ]
    },
    {
     "name": "stderr",
     "output_type": "stream",
     "text": [
      "Epoch 56/230: 100%|██████████| 74/74 [00:12<00:00,  5.83it/s, kl=1.63, klw=0.001, loss=0.0321, recon=0.0305]\n"
     ]
    },
    {
     "name": "stdout",
     "output_type": "stream",
     "text": [
      "AVG LOSS: 0.030656\n",
      "Current learning rate: 0.0001\n"
     ]
    },
    {
     "name": "stderr",
     "output_type": "stream",
     "text": [
      "Epoch 57/230: 100%|██████████| 74/74 [00:12<00:00,  5.81it/s, kl=1.63, klw=0.001, loss=0.0312, recon=0.0295]\n"
     ]
    },
    {
     "name": "stdout",
     "output_type": "stream",
     "text": [
      "AVG LOSS: 0.030858\n",
      "Current learning rate: 0.0001\n"
     ]
    },
    {
     "name": "stderr",
     "output_type": "stream",
     "text": [
      "Epoch 58/230: 100%|██████████| 74/74 [00:12<00:00,  5.85it/s, kl=1.63, klw=0.001, loss=0.0307, recon=0.0291]\n"
     ]
    },
    {
     "name": "stdout",
     "output_type": "stream",
     "text": [
      "AVG LOSS: 0.030351\n",
      "Current learning rate: 0.0001\n"
     ]
    },
    {
     "name": "stderr",
     "output_type": "stream",
     "text": [
      "Epoch 59/230: 100%|██████████| 74/74 [00:12<00:00,  5.81it/s, kl=1.63, klw=0.001, loss=0.0296, recon=0.028]\n"
     ]
    },
    {
     "name": "stdout",
     "output_type": "stream",
     "text": [
      "AVG LOSS: 0.030090\n",
      "Current learning rate: 0.0001\n"
     ]
    },
    {
     "name": "stderr",
     "output_type": "stream",
     "text": [
      "Epoch 60/230: 100%|██████████| 74/74 [00:12<00:00,  5.85it/s, kl=1.63, klw=0.001, loss=0.0291, recon=0.0275]\n"
     ]
    },
    {
     "name": "stdout",
     "output_type": "stream",
     "text": [
      "AVG LOSS: 0.030193\n",
      "Current learning rate: 0.0001\n"
     ]
    },
    {
     "name": "stderr",
     "output_type": "stream",
     "text": [
      "Epoch 61/230: 100%|██████████| 74/74 [00:12<00:00,  5.83it/s, kl=1.62, klw=0.001, loss=0.0302, recon=0.0285]\n"
     ]
    },
    {
     "name": "stdout",
     "output_type": "stream",
     "text": [
      "AVG LOSS: 0.030485\n",
      "Current learning rate: 0.0001\n"
     ]
    },
    {
     "name": "stderr",
     "output_type": "stream",
     "text": [
      "Epoch 62/230: 100%|██████████| 74/74 [00:12<00:00,  5.81it/s, kl=1.59, klw=0.001, loss=0.026, recon=0.0245]\n"
     ]
    },
    {
     "name": "stdout",
     "output_type": "stream",
     "text": [
      "AVG LOSS: 0.029706\n",
      "Current learning rate: 0.0001\n"
     ]
    },
    {
     "name": "stderr",
     "output_type": "stream",
     "text": [
      "Epoch 63/230: 100%|██████████| 74/74 [00:12<00:00,  5.80it/s, kl=1.63, klw=0.001, loss=0.0311, recon=0.0294]\n"
     ]
    },
    {
     "name": "stdout",
     "output_type": "stream",
     "text": [
      "AVG LOSS: 0.029648\n",
      "Current learning rate: 0.0001\n"
     ]
    },
    {
     "name": "stderr",
     "output_type": "stream",
     "text": [
      "Epoch 64/230: 100%|██████████| 74/74 [00:12<00:00,  5.81it/s, kl=1.62, klw=0.001, loss=0.0286, recon=0.027]\n"
     ]
    },
    {
     "name": "stdout",
     "output_type": "stream",
     "text": [
      "AVG LOSS: 0.029883\n",
      "Current learning rate: 0.0001\n"
     ]
    },
    {
     "name": "stderr",
     "output_type": "stream",
     "text": [
      "Epoch 65/230: 100%|██████████| 74/74 [00:12<00:00,  5.83it/s, kl=1.62, klw=0.001, loss=0.0297, recon=0.0281]\n"
     ]
    },
    {
     "name": "stdout",
     "output_type": "stream",
     "text": [
      "AVG LOSS: 0.029592\n",
      "Current learning rate: 0.0001\n"
     ]
    },
    {
     "name": "stderr",
     "output_type": "stream",
     "text": [
      "Epoch 66/230: 100%|██████████| 74/74 [00:12<00:00,  5.84it/s, kl=1.62, klw=0.001, loss=0.029, recon=0.0274]\n"
     ]
    },
    {
     "name": "stdout",
     "output_type": "stream",
     "text": [
      "AVG LOSS: 0.029078\n",
      "Current learning rate: 0.0001\n"
     ]
    },
    {
     "name": "stderr",
     "output_type": "stream",
     "text": [
      "Epoch 67/230: 100%|██████████| 74/74 [00:12<00:00,  5.82it/s, kl=1.62, klw=0.001, loss=0.0294, recon=0.0277]\n"
     ]
    },
    {
     "name": "stdout",
     "output_type": "stream",
     "text": [
      "AVG LOSS: 0.028946\n",
      "Current learning rate: 0.0001\n"
     ]
    },
    {
     "name": "stderr",
     "output_type": "stream",
     "text": [
      "Epoch 68/230: 100%|██████████| 74/74 [00:12<00:00,  5.80it/s, kl=1.61, klw=0.001, loss=0.027, recon=0.0254]\n"
     ]
    },
    {
     "name": "stdout",
     "output_type": "stream",
     "text": [
      "AVG LOSS: 0.029788\n",
      "Current learning rate: 0.0001\n"
     ]
    },
    {
     "name": "stderr",
     "output_type": "stream",
     "text": [
      "Epoch 69/230: 100%|██████████| 74/74 [00:12<00:00,  5.85it/s, kl=1.59, klw=0.001, loss=0.0271, recon=0.0255]\n"
     ]
    },
    {
     "name": "stdout",
     "output_type": "stream",
     "text": [
      "AVG LOSS: 0.028857\n",
      "Current learning rate: 0.0001\n"
     ]
    },
    {
     "name": "stderr",
     "output_type": "stream",
     "text": [
      "Epoch 70/230: 100%|██████████| 74/74 [00:12<00:00,  5.83it/s, kl=1.59, klw=0.001, loss=0.0281, recon=0.0265]\n"
     ]
    },
    {
     "name": "stdout",
     "output_type": "stream",
     "text": [
      "AVG LOSS: 0.028684\n",
      "Current learning rate: 0.0001\n"
     ]
    },
    {
     "name": "stderr",
     "output_type": "stream",
     "text": [
      "Epoch 71/230: 100%|██████████| 74/74 [00:12<00:00,  5.81it/s, kl=1.59, klw=0.001, loss=0.0272, recon=0.0256]\n"
     ]
    },
    {
     "name": "stdout",
     "output_type": "stream",
     "text": [
      "AVG LOSS: 0.028486\n",
      "Current learning rate: 0.0001\n"
     ]
    },
    {
     "name": "stderr",
     "output_type": "stream",
     "text": [
      "Epoch 72/230: 100%|██████████| 74/74 [00:12<00:00,  5.83it/s, kl=1.61, klw=0.001, loss=0.0302, recon=0.0286]\n"
     ]
    },
    {
     "name": "stdout",
     "output_type": "stream",
     "text": [
      "AVG LOSS: 0.028780\n",
      "Current learning rate: 0.0001\n"
     ]
    },
    {
     "name": "stderr",
     "output_type": "stream",
     "text": [
      "Epoch 73/230: 100%|██████████| 74/74 [00:12<00:00,  5.83it/s, kl=1.61, klw=0.001, loss=0.0291, recon=0.0275]\n"
     ]
    },
    {
     "name": "stdout",
     "output_type": "stream",
     "text": [
      "AVG LOSS: 0.028590\n",
      "Current learning rate: 0.0001\n"
     ]
    },
    {
     "name": "stderr",
     "output_type": "stream",
     "text": [
      "Epoch 74/230: 100%|██████████| 74/74 [00:12<00:00,  5.80it/s, kl=1.6, klw=0.001, loss=0.0274, recon=0.0258]\n"
     ]
    },
    {
     "name": "stdout",
     "output_type": "stream",
     "text": [
      "AVG LOSS: 0.028069\n",
      "Current learning rate: 0.0001\n"
     ]
    },
    {
     "name": "stderr",
     "output_type": "stream",
     "text": [
      "Epoch 75/230: 100%|██████████| 74/74 [00:12<00:00,  5.83it/s, kl=1.6, klw=0.001, loss=0.0281, recon=0.0265]\n"
     ]
    },
    {
     "name": "stdout",
     "output_type": "stream",
     "text": [
      "AVG LOSS: 0.027876\n",
      "Current learning rate: 0.0001\n"
     ]
    },
    {
     "name": "stderr",
     "output_type": "stream",
     "text": [
      "Epoch 76/230: 100%|██████████| 74/74 [00:12<00:00,  5.82it/s, kl=1.61, klw=0.001, loss=0.0277, recon=0.0261]\n"
     ]
    },
    {
     "name": "stdout",
     "output_type": "stream",
     "text": [
      "AVG LOSS: 0.027748\n",
      "Current learning rate: 0.0001\n"
     ]
    },
    {
     "name": "stderr",
     "output_type": "stream",
     "text": [
      "Epoch 77/230: 100%|██████████| 74/74 [00:12<00:00,  5.82it/s, kl=1.61, klw=0.001, loss=0.0289, recon=0.0273]\n"
     ]
    },
    {
     "name": "stdout",
     "output_type": "stream",
     "text": [
      "AVG LOSS: 0.027690\n",
      "Current learning rate: 0.0001\n"
     ]
    },
    {
     "name": "stderr",
     "output_type": "stream",
     "text": [
      "Epoch 78/230: 100%|██████████| 74/74 [00:12<00:00,  5.82it/s, kl=1.58, klw=0.001, loss=0.0273, recon=0.0257]\n"
     ]
    },
    {
     "name": "stdout",
     "output_type": "stream",
     "text": [
      "AVG LOSS: 0.027753\n",
      "Current learning rate: 0.0001\n"
     ]
    },
    {
     "name": "stderr",
     "output_type": "stream",
     "text": [
      "Epoch 79/230: 100%|██████████| 74/74 [00:12<00:00,  5.83it/s, kl=1.58, klw=0.001, loss=0.0298, recon=0.0283]\n"
     ]
    },
    {
     "name": "stdout",
     "output_type": "stream",
     "text": [
      "AVG LOSS: 0.027408\n",
      "Current learning rate: 0.0001\n"
     ]
    },
    {
     "name": "stderr",
     "output_type": "stream",
     "text": [
      "Epoch 80/230: 100%|██████████| 74/74 [00:12<00:00,  5.85it/s, kl=1.59, klw=0.001, loss=0.0258, recon=0.0242]\n"
     ]
    },
    {
     "name": "stdout",
     "output_type": "stream",
     "text": [
      "AVG LOSS: 0.027306\n",
      "Current learning rate: 0.0001\n"
     ]
    },
    {
     "name": "stderr",
     "output_type": "stream",
     "text": [
      "Epoch 81/230: 100%|██████████| 74/74 [00:12<00:00,  5.80it/s, kl=1.6, klw=0.001, loss=0.0288, recon=0.0272]\n"
     ]
    },
    {
     "name": "stdout",
     "output_type": "stream",
     "text": [
      "AVG LOSS: 0.027447\n",
      "Current learning rate: 0.0001\n"
     ]
    },
    {
     "name": "stderr",
     "output_type": "stream",
     "text": [
      "Epoch 82/230: 100%|██████████| 74/74 [00:12<00:00,  5.82it/s, kl=1.59, klw=0.001, loss=0.0263, recon=0.0247]\n"
     ]
    },
    {
     "name": "stdout",
     "output_type": "stream",
     "text": [
      "AVG LOSS: 0.027305\n",
      "Current learning rate: 0.0001\n"
     ]
    },
    {
     "name": "stderr",
     "output_type": "stream",
     "text": [
      "Epoch 83/230: 100%|██████████| 74/74 [00:12<00:00,  5.80it/s, kl=1.57, klw=0.001, loss=0.0244, recon=0.0229]\n"
     ]
    },
    {
     "name": "stdout",
     "output_type": "stream",
     "text": [
      "AVG LOSS: 0.027178\n",
      "Current learning rate: 0.0001\n"
     ]
    },
    {
     "name": "stderr",
     "output_type": "stream",
     "text": [
      "Epoch 84/230: 100%|██████████| 74/74 [00:12<00:00,  5.80it/s, kl=1.56, klw=0.001, loss=0.0269, recon=0.0254]\n"
     ]
    },
    {
     "name": "stdout",
     "output_type": "stream",
     "text": [
      "AVG LOSS: 0.026998\n",
      "Current learning rate: 0.0001\n"
     ]
    },
    {
     "name": "stderr",
     "output_type": "stream",
     "text": [
      "Epoch 85/230: 100%|██████████| 74/74 [00:12<00:00,  5.81it/s, kl=1.59, klw=0.001, loss=0.0259, recon=0.0243]\n"
     ]
    },
    {
     "name": "stdout",
     "output_type": "stream",
     "text": [
      "AVG LOSS: 0.026729\n",
      "Current learning rate: 0.0001\n"
     ]
    },
    {
     "name": "stderr",
     "output_type": "stream",
     "text": [
      "Epoch 86/230: 100%|██████████| 74/74 [00:12<00:00,  5.78it/s, kl=1.6, klw=0.001, loss=0.0297, recon=0.0281]\n"
     ]
    },
    {
     "name": "stdout",
     "output_type": "stream",
     "text": [
      "AVG LOSS: 0.026684\n",
      "Current learning rate: 0.0001\n"
     ]
    },
    {
     "name": "stderr",
     "output_type": "stream",
     "text": [
      "Epoch 87/230: 100%|██████████| 74/74 [00:12<00:00,  5.83it/s, kl=1.62, klw=0.001, loss=0.0292, recon=0.0276]\n"
     ]
    },
    {
     "name": "stdout",
     "output_type": "stream",
     "text": [
      "AVG LOSS: 0.027504\n",
      "Current learning rate: 0.0001\n"
     ]
    },
    {
     "name": "stderr",
     "output_type": "stream",
     "text": [
      "Epoch 88/230: 100%|██████████| 74/74 [00:12<00:00,  5.83it/s, kl=1.57, klw=0.001, loss=0.0251, recon=0.0235]\n"
     ]
    },
    {
     "name": "stdout",
     "output_type": "stream",
     "text": [
      "AVG LOSS: 0.026695\n",
      "Current learning rate: 0.0001\n"
     ]
    },
    {
     "name": "stderr",
     "output_type": "stream",
     "text": [
      "Epoch 89/230: 100%|██████████| 74/74 [00:12<00:00,  5.83it/s, kl=1.6, klw=0.001, loss=0.0257, recon=0.0241]\n"
     ]
    },
    {
     "name": "stdout",
     "output_type": "stream",
     "text": [
      "AVG LOSS: 0.026346\n",
      "Current learning rate: 0.0001\n"
     ]
    },
    {
     "name": "stderr",
     "output_type": "stream",
     "text": [
      "Epoch 90/230: 100%|██████████| 74/74 [00:12<00:00,  5.80it/s, kl=1.59, klw=0.001, loss=0.0268, recon=0.0252]\n"
     ]
    },
    {
     "name": "stdout",
     "output_type": "stream",
     "text": [
      "AVG LOSS: 0.026392\n",
      "Current learning rate: 0.0001\n"
     ]
    },
    {
     "name": "stderr",
     "output_type": "stream",
     "text": [
      "Epoch 91/230: 100%|██████████| 74/74 [00:12<00:00,  5.84it/s, kl=1.61, klw=0.001, loss=0.0274, recon=0.0258]\n"
     ]
    },
    {
     "name": "stdout",
     "output_type": "stream",
     "text": [
      "AVG LOSS: 0.026454\n",
      "Current learning rate: 0.0001\n"
     ]
    },
    {
     "name": "stderr",
     "output_type": "stream",
     "text": [
      "Epoch 92/230: 100%|██████████| 74/74 [00:12<00:00,  5.83it/s, kl=1.57, klw=0.001, loss=0.0254, recon=0.0238]\n"
     ]
    },
    {
     "name": "stdout",
     "output_type": "stream",
     "text": [
      "AVG LOSS: 0.026387\n",
      "Current learning rate: 0.0001\n"
     ]
    },
    {
     "name": "stderr",
     "output_type": "stream",
     "text": [
      "Epoch 93/230: 100%|██████████| 74/74 [00:12<00:00,  5.84it/s, kl=1.59, klw=0.001, loss=0.0251, recon=0.0235]\n"
     ]
    },
    {
     "name": "stdout",
     "output_type": "stream",
     "text": [
      "AVG LOSS: 0.025921\n",
      "Current learning rate: 0.0001\n"
     ]
    },
    {
     "name": "stderr",
     "output_type": "stream",
     "text": [
      "Epoch 94/230: 100%|██████████| 74/74 [00:12<00:00,  5.79it/s, kl=1.56, klw=0.001, loss=0.0255, recon=0.0239]\n"
     ]
    },
    {
     "name": "stdout",
     "output_type": "stream",
     "text": [
      "AVG LOSS: 0.025920\n",
      "Current learning rate: 0.0001\n"
     ]
    },
    {
     "name": "stderr",
     "output_type": "stream",
     "text": [
      "Epoch 95/230: 100%|██████████| 74/74 [00:12<00:00,  5.80it/s, kl=1.57, klw=0.001, loss=0.0255, recon=0.0239]\n"
     ]
    },
    {
     "name": "stdout",
     "output_type": "stream",
     "text": [
      "AVG LOSS: 0.025999\n",
      "Current learning rate: 0.0001\n"
     ]
    },
    {
     "name": "stderr",
     "output_type": "stream",
     "text": [
      "Epoch 96/230: 100%|██████████| 74/74 [00:12<00:00,  5.82it/s, kl=1.57, klw=0.001, loss=0.0252, recon=0.0236]\n"
     ]
    },
    {
     "name": "stdout",
     "output_type": "stream",
     "text": [
      "AVG LOSS: 0.025810\n",
      "Current learning rate: 0.0001\n"
     ]
    },
    {
     "name": "stderr",
     "output_type": "stream",
     "text": [
      "Epoch 97/230: 100%|██████████| 74/74 [00:12<00:00,  5.81it/s, kl=1.57, klw=0.001, loss=0.026, recon=0.0244]\n"
     ]
    },
    {
     "name": "stdout",
     "output_type": "stream",
     "text": [
      "AVG LOSS: 0.025696\n",
      "Current learning rate: 0.0001\n"
     ]
    },
    {
     "name": "stderr",
     "output_type": "stream",
     "text": [
      "Epoch 98/230: 100%|██████████| 74/74 [00:12<00:00,  5.83it/s, kl=1.59, klw=0.001, loss=0.0266, recon=0.0251]\n"
     ]
    },
    {
     "name": "stdout",
     "output_type": "stream",
     "text": [
      "AVG LOSS: 0.025667\n",
      "Current learning rate: 0.0001\n"
     ]
    },
    {
     "name": "stderr",
     "output_type": "stream",
     "text": [
      "Epoch 99/230: 100%|██████████| 74/74 [00:12<00:00,  5.84it/s, kl=1.57, klw=0.001, loss=0.0259, recon=0.0244]\n"
     ]
    },
    {
     "name": "stdout",
     "output_type": "stream",
     "text": [
      "AVG LOSS: 0.025443\n",
      "Current learning rate: 0.0001\n"
     ]
    },
    {
     "name": "stderr",
     "output_type": "stream",
     "text": [
      "Epoch 100/230: 100%|██████████| 74/74 [00:12<00:00,  5.79it/s, kl=1.57, klw=0.001, loss=0.0261, recon=0.0246]\n"
     ]
    },
    {
     "name": "stdout",
     "output_type": "stream",
     "text": [
      "AVG LOSS: 0.025380\n",
      "Current learning rate: 0.0001\n"
     ]
    },
    {
     "name": "stderr",
     "output_type": "stream",
     "text": [
      "Epoch 101/230: 100%|██████████| 74/74 [00:12<00:00,  5.79it/s, kl=1.59, klw=0.001, loss=0.0262, recon=0.0246]\n"
     ]
    },
    {
     "name": "stdout",
     "output_type": "stream",
     "text": [
      "AVG LOSS: 0.025449\n",
      "Current learning rate: 0.0001\n"
     ]
    },
    {
     "name": "stderr",
     "output_type": "stream",
     "text": [
      "Epoch 102/230: 100%|██████████| 74/74 [00:12<00:00,  5.83it/s, kl=1.57, klw=0.001, loss=0.0243, recon=0.0227]\n"
     ]
    },
    {
     "name": "stdout",
     "output_type": "stream",
     "text": [
      "AVG LOSS: 0.025225\n",
      "Current learning rate: 0.0001\n"
     ]
    },
    {
     "name": "stderr",
     "output_type": "stream",
     "text": [
      "Epoch 103/230: 100%|██████████| 74/74 [00:12<00:00,  5.84it/s, kl=1.54, klw=0.001, loss=0.0228, recon=0.0212]\n"
     ]
    },
    {
     "name": "stdout",
     "output_type": "stream",
     "text": [
      "AVG LOSS: 0.025129\n",
      "Current learning rate: 0.0001\n"
     ]
    },
    {
     "name": "stderr",
     "output_type": "stream",
     "text": [
      "Epoch 104/230: 100%|██████████| 74/74 [00:12<00:00,  5.80it/s, kl=1.58, klw=0.001, loss=0.0267, recon=0.0251]\n"
     ]
    },
    {
     "name": "stdout",
     "output_type": "stream",
     "text": [
      "AVG LOSS: 0.025022\n",
      "Current learning rate: 0.0001\n"
     ]
    },
    {
     "name": "stderr",
     "output_type": "stream",
     "text": [
      "Epoch 105/230: 100%|██████████| 74/74 [00:12<00:00,  5.82it/s, kl=1.55, klw=0.001, loss=0.0223, recon=0.0208]\n"
     ]
    },
    {
     "name": "stdout",
     "output_type": "stream",
     "text": [
      "AVG LOSS: 0.025270\n",
      "Current learning rate: 0.0001\n"
     ]
    },
    {
     "name": "stderr",
     "output_type": "stream",
     "text": [
      "Epoch 106/230: 100%|██████████| 74/74 [00:12<00:00,  5.84it/s, kl=1.57, klw=0.001, loss=0.0249, recon=0.0233]\n"
     ]
    },
    {
     "name": "stdout",
     "output_type": "stream",
     "text": [
      "AVG LOSS: 0.025342\n",
      "Current learning rate: 0.0001\n"
     ]
    },
    {
     "name": "stderr",
     "output_type": "stream",
     "text": [
      "Epoch 107/230: 100%|██████████| 74/74 [00:12<00:00,  5.82it/s, kl=1.56, klw=0.001, loss=0.0253, recon=0.0238]\n"
     ]
    },
    {
     "name": "stdout",
     "output_type": "stream",
     "text": [
      "AVG LOSS: 0.024919\n",
      "Current learning rate: 0.0001\n"
     ]
    },
    {
     "name": "stderr",
     "output_type": "stream",
     "text": [
      "Epoch 108/230: 100%|██████████| 74/74 [00:12<00:00,  5.79it/s, kl=1.56, klw=0.001, loss=0.023, recon=0.0215]\n"
     ]
    },
    {
     "name": "stdout",
     "output_type": "stream",
     "text": [
      "AVG LOSS: 0.025141\n",
      "Current learning rate: 0.0001\n"
     ]
    },
    {
     "name": "stderr",
     "output_type": "stream",
     "text": [
      "Epoch 109/230: 100%|██████████| 74/74 [00:12<00:00,  5.78it/s, kl=1.56, klw=0.001, loss=0.0241, recon=0.0226]\n"
     ]
    },
    {
     "name": "stdout",
     "output_type": "stream",
     "text": [
      "AVG LOSS: 0.024622\n",
      "Current learning rate: 0.0001\n"
     ]
    },
    {
     "name": "stderr",
     "output_type": "stream",
     "text": [
      "Epoch 110/230: 100%|██████████| 74/74 [00:12<00:00,  5.85it/s, kl=1.56, klw=0.001, loss=0.0239, recon=0.0224]\n"
     ]
    },
    {
     "name": "stdout",
     "output_type": "stream",
     "text": [
      "AVG LOSS: 0.024759\n",
      "Current learning rate: 0.0001\n"
     ]
    },
    {
     "name": "stderr",
     "output_type": "stream",
     "text": [
      "Epoch 111/230: 100%|██████████| 74/74 [00:12<00:00,  5.82it/s, kl=1.55, klw=0.001, loss=0.0251, recon=0.0235]\n"
     ]
    },
    {
     "name": "stdout",
     "output_type": "stream",
     "text": [
      "AVG LOSS: 0.024500\n",
      "Current learning rate: 0.0001\n"
     ]
    },
    {
     "name": "stderr",
     "output_type": "stream",
     "text": [
      "Epoch 112/230: 100%|██████████| 74/74 [00:12<00:00,  5.81it/s, kl=1.57, klw=0.001, loss=0.0251, recon=0.0235]\n"
     ]
    },
    {
     "name": "stdout",
     "output_type": "stream",
     "text": [
      "AVG LOSS: 0.024395\n",
      "Current learning rate: 0.0001\n"
     ]
    },
    {
     "name": "stderr",
     "output_type": "stream",
     "text": [
      "Epoch 113/230: 100%|██████████| 74/74 [00:12<00:00,  5.80it/s, kl=1.53, klw=0.001, loss=0.0252, recon=0.0236]\n"
     ]
    },
    {
     "name": "stdout",
     "output_type": "stream",
     "text": [
      "AVG LOSS: 0.024342\n",
      "Current learning rate: 0.0001\n"
     ]
    },
    {
     "name": "stderr",
     "output_type": "stream",
     "text": [
      "Epoch 114/230: 100%|██████████| 74/74 [00:12<00:00,  5.82it/s, kl=1.57, klw=0.001, loss=0.0253, recon=0.0237]\n"
     ]
    },
    {
     "name": "stdout",
     "output_type": "stream",
     "text": [
      "AVG LOSS: 0.024197\n",
      "Current learning rate: 0.0001\n"
     ]
    },
    {
     "name": "stderr",
     "output_type": "stream",
     "text": [
      "Epoch 115/230: 100%|██████████| 74/74 [00:12<00:00,  5.83it/s, kl=1.57, klw=0.001, loss=0.0247, recon=0.0232]\n"
     ]
    },
    {
     "name": "stdout",
     "output_type": "stream",
     "text": [
      "AVG LOSS: 0.024316\n",
      "Current learning rate: 0.0001\n"
     ]
    },
    {
     "name": "stderr",
     "output_type": "stream",
     "text": [
      "Epoch 116/230: 100%|██████████| 74/74 [00:12<00:00,  5.80it/s, kl=1.55, klw=0.001, loss=0.0243, recon=0.0228]\n"
     ]
    },
    {
     "name": "stdout",
     "output_type": "stream",
     "text": [
      "AVG LOSS: 0.024094\n",
      "Current learning rate: 0.0001\n"
     ]
    },
    {
     "name": "stderr",
     "output_type": "stream",
     "text": [
      "Epoch 117/230: 100%|██████████| 74/74 [00:12<00:00,  5.80it/s, kl=1.55, klw=0.001, loss=0.0224, recon=0.0208]\n"
     ]
    },
    {
     "name": "stdout",
     "output_type": "stream",
     "text": [
      "AVG LOSS: 0.024073\n",
      "Current learning rate: 0.0001\n"
     ]
    },
    {
     "name": "stderr",
     "output_type": "stream",
     "text": [
      "Epoch 118/230: 100%|██████████| 74/74 [00:12<00:00,  5.81it/s, kl=1.56, klw=0.001, loss=0.0235, recon=0.0219]\n"
     ]
    },
    {
     "name": "stdout",
     "output_type": "stream",
     "text": [
      "AVG LOSS: 0.024013\n",
      "Current learning rate: 0.0001\n"
     ]
    },
    {
     "name": "stderr",
     "output_type": "stream",
     "text": [
      "Epoch 119/230: 100%|██████████| 74/74 [00:12<00:00,  5.80it/s, kl=1.59, klw=0.001, loss=0.0259, recon=0.0243]\n"
     ]
    },
    {
     "name": "stdout",
     "output_type": "stream",
     "text": [
      "AVG LOSS: 0.024131\n",
      "Current learning rate: 0.0001\n"
     ]
    },
    {
     "name": "stderr",
     "output_type": "stream",
     "text": [
      "Epoch 120/230: 100%|██████████| 74/74 [00:12<00:00,  5.83it/s, kl=1.53, klw=0.001, loss=0.0236, recon=0.0221]\n"
     ]
    },
    {
     "name": "stdout",
     "output_type": "stream",
     "text": [
      "AVG LOSS: 0.023773\n",
      "Current learning rate: 0.0001\n"
     ]
    },
    {
     "name": "stderr",
     "output_type": "stream",
     "text": [
      "Epoch 121/230: 100%|██████████| 74/74 [00:12<00:00,  5.79it/s, kl=1.55, klw=0.001, loss=0.0267, recon=0.0252]\n"
     ]
    },
    {
     "name": "stdout",
     "output_type": "stream",
     "text": [
      "AVG LOSS: 0.023741\n",
      "Current learning rate: 0.0001\n"
     ]
    },
    {
     "name": "stderr",
     "output_type": "stream",
     "text": [
      "Epoch 122/230: 100%|██████████| 74/74 [00:12<00:00,  5.82it/s, kl=1.57, klw=0.001, loss=0.024, recon=0.0224]\n"
     ]
    },
    {
     "name": "stdout",
     "output_type": "stream",
     "text": [
      "AVG LOSS: 0.023696\n",
      "Current learning rate: 0.0001\n"
     ]
    },
    {
     "name": "stderr",
     "output_type": "stream",
     "text": [
      "Epoch 123/230: 100%|██████████| 74/74 [00:12<00:00,  5.81it/s, kl=1.56, klw=0.001, loss=0.0261, recon=0.0245]\n"
     ]
    },
    {
     "name": "stdout",
     "output_type": "stream",
     "text": [
      "AVG LOSS: 0.024919\n",
      "Current learning rate: 0.0001\n"
     ]
    },
    {
     "name": "stderr",
     "output_type": "stream",
     "text": [
      "Epoch 124/230: 100%|██████████| 74/74 [00:12<00:00,  5.82it/s, kl=1.54, klw=0.001, loss=0.0245, recon=0.0229]\n"
     ]
    },
    {
     "name": "stdout",
     "output_type": "stream",
     "text": [
      "AVG LOSS: 0.023926\n",
      "Current learning rate: 0.0001\n"
     ]
    },
    {
     "name": "stderr",
     "output_type": "stream",
     "text": [
      "Epoch 125/230: 100%|██████████| 74/74 [00:12<00:00,  5.84it/s, kl=1.52, klw=0.001, loss=0.022, recon=0.0205]\n"
     ]
    },
    {
     "name": "stdout",
     "output_type": "stream",
     "text": [
      "AVG LOSS: 0.023533\n",
      "Current learning rate: 0.0001\n"
     ]
    },
    {
     "name": "stderr",
     "output_type": "stream",
     "text": [
      "Epoch 126/230: 100%|██████████| 74/74 [00:12<00:00,  5.82it/s, kl=1.57, klw=0.001, loss=0.0255, recon=0.0239]\n"
     ]
    },
    {
     "name": "stdout",
     "output_type": "stream",
     "text": [
      "AVG LOSS: 0.023381\n",
      "Current learning rate: 0.0001\n"
     ]
    },
    {
     "name": "stderr",
     "output_type": "stream",
     "text": [
      "Epoch 127/230: 100%|██████████| 74/74 [00:12<00:00,  5.82it/s, kl=1.54, klw=0.001, loss=0.0244, recon=0.0229]\n"
     ]
    },
    {
     "name": "stdout",
     "output_type": "stream",
     "text": [
      "AVG LOSS: 0.023327\n",
      "Current learning rate: 0.0001\n"
     ]
    },
    {
     "name": "stderr",
     "output_type": "stream",
     "text": [
      "Epoch 128/230: 100%|██████████| 74/74 [00:12<00:00,  5.82it/s, kl=1.53, klw=0.001, loss=0.0227, recon=0.0212]\n"
     ]
    },
    {
     "name": "stdout",
     "output_type": "stream",
     "text": [
      "AVG LOSS: 0.023374\n",
      "Current learning rate: 0.0001\n"
     ]
    },
    {
     "name": "stderr",
     "output_type": "stream",
     "text": [
      "Epoch 129/230: 100%|██████████| 74/74 [00:12<00:00,  5.83it/s, kl=1.52, klw=0.001, loss=0.0208, recon=0.0193]\n"
     ]
    },
    {
     "name": "stdout",
     "output_type": "stream",
     "text": [
      "AVG LOSS: 0.023311\n",
      "Current learning rate: 0.0001\n"
     ]
    },
    {
     "name": "stderr",
     "output_type": "stream",
     "text": [
      "Epoch 130/230: 100%|██████████| 74/74 [00:12<00:00,  5.79it/s, kl=1.53, klw=0.001, loss=0.024, recon=0.0225]\n"
     ]
    },
    {
     "name": "stdout",
     "output_type": "stream",
     "text": [
      "AVG LOSS: 0.023275\n",
      "Current learning rate: 0.0001\n"
     ]
    },
    {
     "name": "stderr",
     "output_type": "stream",
     "text": [
      "Epoch 131/230: 100%|██████████| 74/74 [00:12<00:00,  5.82it/s, kl=1.57, klw=0.001, loss=0.0262, recon=0.0247]\n"
     ]
    },
    {
     "name": "stdout",
     "output_type": "stream",
     "text": [
      "AVG LOSS: 0.023031\n",
      "Current learning rate: 0.0001\n"
     ]
    },
    {
     "name": "stderr",
     "output_type": "stream",
     "text": [
      "Epoch 132/230: 100%|██████████| 74/74 [00:12<00:00,  5.82it/s, kl=1.55, klw=0.001, loss=0.0224, recon=0.0209]\n"
     ]
    },
    {
     "name": "stdout",
     "output_type": "stream",
     "text": [
      "AVG LOSS: 0.023019\n",
      "Current learning rate: 0.0001\n"
     ]
    },
    {
     "name": "stderr",
     "output_type": "stream",
     "text": [
      "Epoch 133/230: 100%|██████████| 74/74 [00:12<00:00,  5.82it/s, kl=1.53, klw=0.001, loss=0.0232, recon=0.0217]\n"
     ]
    },
    {
     "name": "stdout",
     "output_type": "stream",
     "text": [
      "AVG LOSS: 0.023076\n",
      "Current learning rate: 0.0001\n"
     ]
    },
    {
     "name": "stderr",
     "output_type": "stream",
     "text": [
      "Epoch 134/230: 100%|██████████| 74/74 [00:12<00:00,  5.81it/s, kl=1.54, klw=0.001, loss=0.0234, recon=0.0219]\n"
     ]
    },
    {
     "name": "stdout",
     "output_type": "stream",
     "text": [
      "AVG LOSS: 0.023031\n",
      "Current learning rate: 0.0001\n"
     ]
    },
    {
     "name": "stderr",
     "output_type": "stream",
     "text": [
      "Epoch 135/230: 100%|██████████| 74/74 [00:12<00:00,  5.80it/s, kl=1.56, klw=0.001, loss=0.0265, recon=0.0249]\n"
     ]
    },
    {
     "name": "stdout",
     "output_type": "stream",
     "text": [
      "AVG LOSS: 0.022895\n",
      "Current learning rate: 0.0001\n"
     ]
    },
    {
     "name": "stderr",
     "output_type": "stream",
     "text": [
      "Epoch 136/230: 100%|██████████| 74/74 [00:12<00:00,  5.81it/s, kl=1.49, klw=0.001, loss=0.0234, recon=0.0219]\n"
     ]
    },
    {
     "name": "stdout",
     "output_type": "stream",
     "text": [
      "AVG LOSS: 0.022937\n",
      "Current learning rate: 0.0001\n"
     ]
    },
    {
     "name": "stderr",
     "output_type": "stream",
     "text": [
      "Epoch 137/230: 100%|██████████| 74/74 [00:12<00:00,  5.81it/s, kl=1.54, klw=0.001, loss=0.0243, recon=0.0228]\n"
     ]
    },
    {
     "name": "stdout",
     "output_type": "stream",
     "text": [
      "AVG LOSS: 0.023037\n",
      "Current learning rate: 0.0001\n"
     ]
    },
    {
     "name": "stderr",
     "output_type": "stream",
     "text": [
      "Epoch 138/230: 100%|██████████| 74/74 [00:12<00:00,  5.81it/s, kl=1.52, klw=0.001, loss=0.0221, recon=0.0206]\n"
     ]
    },
    {
     "name": "stdout",
     "output_type": "stream",
     "text": [
      "AVG LOSS: 0.022903\n",
      "Current learning rate: 0.0001\n"
     ]
    },
    {
     "name": "stderr",
     "output_type": "stream",
     "text": [
      "Epoch 139/230: 100%|██████████| 74/74 [00:12<00:00,  5.79it/s, kl=1.5, klw=0.001, loss=0.0225, recon=0.021]\n"
     ]
    },
    {
     "name": "stdout",
     "output_type": "stream",
     "text": [
      "AVG LOSS: 0.022839\n",
      "Current learning rate: 0.0001\n"
     ]
    },
    {
     "name": "stderr",
     "output_type": "stream",
     "text": [
      "Epoch 140/230: 100%|██████████| 74/74 [00:12<00:00,  5.82it/s, kl=1.46, klw=0.001, loss=0.0225, recon=0.021]\n"
     ]
    },
    {
     "name": "stdout",
     "output_type": "stream",
     "text": [
      "AVG LOSS: 0.022534\n",
      "Current learning rate: 0.0001\n"
     ]
    },
    {
     "name": "stderr",
     "output_type": "stream",
     "text": [
      "Epoch 141/230: 100%|██████████| 74/74 [00:12<00:00,  5.85it/s, kl=1.54, klw=0.001, loss=0.0229, recon=0.0214]\n"
     ]
    },
    {
     "name": "stdout",
     "output_type": "stream",
     "text": [
      "AVG LOSS: 0.022533\n",
      "Current learning rate: 0.0001\n"
     ]
    },
    {
     "name": "stderr",
     "output_type": "stream",
     "text": [
      "Epoch 142/230: 100%|██████████| 74/74 [00:12<00:00,  5.82it/s, kl=1.52, klw=0.001, loss=0.0234, recon=0.0218]\n"
     ]
    },
    {
     "name": "stdout",
     "output_type": "stream",
     "text": [
      "AVG LOSS: 0.022572\n",
      "Current learning rate: 0.0001\n"
     ]
    },
    {
     "name": "stderr",
     "output_type": "stream",
     "text": [
      "Epoch 143/230: 100%|██████████| 74/74 [00:12<00:00,  5.82it/s, kl=1.57, klw=0.001, loss=0.0249, recon=0.0234]\n"
     ]
    },
    {
     "name": "stdout",
     "output_type": "stream",
     "text": [
      "AVG LOSS: 0.022569\n",
      "Current learning rate: 0.0001\n"
     ]
    },
    {
     "name": "stderr",
     "output_type": "stream",
     "text": [
      "Epoch 144/230: 100%|██████████| 74/74 [00:12<00:00,  5.81it/s, kl=1.53, klw=0.001, loss=0.0226, recon=0.0211]\n"
     ]
    },
    {
     "name": "stdout",
     "output_type": "stream",
     "text": [
      "AVG LOSS: 0.022357\n",
      "Current learning rate: 0.0001\n"
     ]
    },
    {
     "name": "stderr",
     "output_type": "stream",
     "text": [
      "Epoch 145/230: 100%|██████████| 74/74 [00:12<00:00,  5.81it/s, kl=1.55, klw=0.001, loss=0.0229, recon=0.0214]\n"
     ]
    },
    {
     "name": "stdout",
     "output_type": "stream",
     "text": [
      "AVG LOSS: 0.022395\n",
      "Current learning rate: 0.0001\n"
     ]
    },
    {
     "name": "stderr",
     "output_type": "stream",
     "text": [
      "Epoch 146/230: 100%|██████████| 74/74 [00:12<00:00,  5.79it/s, kl=1.56, klw=0.001, loss=0.0234, recon=0.0218]\n"
     ]
    },
    {
     "name": "stdout",
     "output_type": "stream",
     "text": [
      "AVG LOSS: 0.022343\n",
      "Current learning rate: 0.0001\n"
     ]
    },
    {
     "name": "stderr",
     "output_type": "stream",
     "text": [
      "Epoch 147/230: 100%|██████████| 74/74 [00:12<00:00,  5.84it/s, kl=1.53, klw=0.001, loss=0.0232, recon=0.0217]\n"
     ]
    },
    {
     "name": "stdout",
     "output_type": "stream",
     "text": [
      "AVG LOSS: 0.022252\n",
      "Current learning rate: 0.0001\n"
     ]
    },
    {
     "name": "stderr",
     "output_type": "stream",
     "text": [
      "Epoch 148/230: 100%|██████████| 74/74 [00:12<00:00,  5.81it/s, kl=1.49, klw=0.001, loss=0.0207, recon=0.0192]\n"
     ]
    },
    {
     "name": "stdout",
     "output_type": "stream",
     "text": [
      "AVG LOSS: 0.022179\n",
      "Current learning rate: 0.0001\n"
     ]
    },
    {
     "name": "stderr",
     "output_type": "stream",
     "text": [
      "Epoch 149/230: 100%|██████████| 74/74 [00:12<00:00,  5.82it/s, kl=1.52, klw=0.001, loss=0.0223, recon=0.0208]\n"
     ]
    },
    {
     "name": "stdout",
     "output_type": "stream",
     "text": [
      "AVG LOSS: 0.022123\n",
      "Current learning rate: 0.0001\n"
     ]
    },
    {
     "name": "stderr",
     "output_type": "stream",
     "text": [
      "Epoch 150/230: 100%|██████████| 74/74 [00:12<00:00,  5.82it/s, kl=1.5, klw=0.001, loss=0.0214, recon=0.0199]\n"
     ]
    },
    {
     "name": "stdout",
     "output_type": "stream",
     "text": [
      "AVG LOSS: 0.022150\n",
      "Current learning rate: 0.0001\n"
     ]
    },
    {
     "name": "stderr",
     "output_type": "stream",
     "text": [
      "Epoch 151/230: 100%|██████████| 74/74 [00:12<00:00,  5.83it/s, kl=1.53, klw=0.001, loss=0.023, recon=0.0215]\n"
     ]
    },
    {
     "name": "stdout",
     "output_type": "stream",
     "text": [
      "AVG LOSS: 0.021926\n",
      "Current learning rate: 0.0001\n"
     ]
    },
    {
     "name": "stderr",
     "output_type": "stream",
     "text": [
      "Epoch 152/230: 100%|██████████| 74/74 [00:12<00:00,  5.83it/s, kl=1.53, klw=0.001, loss=0.0221, recon=0.0206]\n"
     ]
    },
    {
     "name": "stdout",
     "output_type": "stream",
     "text": [
      "AVG LOSS: 0.021975\n",
      "Current learning rate: 0.0001\n"
     ]
    },
    {
     "name": "stderr",
     "output_type": "stream",
     "text": [
      "Epoch 153/230: 100%|██████████| 74/74 [00:12<00:00,  5.82it/s, kl=1.49, klw=0.001, loss=0.021, recon=0.0195]\n"
     ]
    },
    {
     "name": "stdout",
     "output_type": "stream",
     "text": [
      "AVG LOSS: 0.021918\n",
      "Current learning rate: 0.0001\n"
     ]
    },
    {
     "name": "stderr",
     "output_type": "stream",
     "text": [
      "Epoch 154/230: 100%|██████████| 74/74 [00:12<00:00,  5.78it/s, kl=1.5, klw=0.001, loss=0.022, recon=0.0205]\n"
     ]
    },
    {
     "name": "stdout",
     "output_type": "stream",
     "text": [
      "AVG LOSS: 0.021854\n",
      "Current learning rate: 0.0001\n"
     ]
    },
    {
     "name": "stderr",
     "output_type": "stream",
     "text": [
      "Epoch 155/230: 100%|██████████| 74/74 [00:12<00:00,  5.81it/s, kl=1.49, klw=0.001, loss=0.02, recon=0.0185]\n"
     ]
    },
    {
     "name": "stdout",
     "output_type": "stream",
     "text": [
      "AVG LOSS: 0.021739\n",
      "Current learning rate: 0.0001\n"
     ]
    },
    {
     "name": "stderr",
     "output_type": "stream",
     "text": [
      "Epoch 156/230: 100%|██████████| 74/74 [00:12<00:00,  5.82it/s, kl=1.5, klw=0.001, loss=0.0203, recon=0.0188]\n"
     ]
    },
    {
     "name": "stdout",
     "output_type": "stream",
     "text": [
      "AVG LOSS: 0.022006\n",
      "Current learning rate: 0.0001\n"
     ]
    },
    {
     "name": "stderr",
     "output_type": "stream",
     "text": [
      "Epoch 157/230: 100%|██████████| 74/74 [00:12<00:00,  5.81it/s, kl=1.52, klw=0.001, loss=0.0207, recon=0.0192]\n"
     ]
    },
    {
     "name": "stdout",
     "output_type": "stream",
     "text": [
      "AVG LOSS: 0.021622\n",
      "Current learning rate: 0.0001\n"
     ]
    },
    {
     "name": "stderr",
     "output_type": "stream",
     "text": [
      "Epoch 158/230: 100%|██████████| 74/74 [00:12<00:00,  5.81it/s, kl=1.54, klw=0.001, loss=0.0219, recon=0.0203]\n"
     ]
    },
    {
     "name": "stdout",
     "output_type": "stream",
     "text": [
      "AVG LOSS: 0.021676\n",
      "Current learning rate: 0.0001\n"
     ]
    },
    {
     "name": "stderr",
     "output_type": "stream",
     "text": [
      "Epoch 159/230: 100%|██████████| 74/74 [00:12<00:00,  5.79it/s, kl=1.52, klw=0.001, loss=0.0215, recon=0.02]\n"
     ]
    },
    {
     "name": "stdout",
     "output_type": "stream",
     "text": [
      "AVG LOSS: 0.021685\n",
      "Current learning rate: 0.0001\n"
     ]
    },
    {
     "name": "stderr",
     "output_type": "stream",
     "text": [
      "Epoch 160/230: 100%|██████████| 74/74 [00:12<00:00,  5.81it/s, kl=1.48, klw=0.001, loss=0.0215, recon=0.02]\n"
     ]
    },
    {
     "name": "stdout",
     "output_type": "stream",
     "text": [
      "AVG LOSS: 0.021856\n",
      "Current learning rate: 0.0001\n"
     ]
    },
    {
     "name": "stderr",
     "output_type": "stream",
     "text": [
      "Epoch 161/230: 100%|██████████| 74/74 [00:12<00:00,  5.80it/s, kl=1.49, klw=0.001, loss=0.0211, recon=0.0196]\n"
     ]
    },
    {
     "name": "stdout",
     "output_type": "stream",
     "text": [
      "AVG LOSS: 0.021958\n",
      "Current learning rate: 8e-05\n"
     ]
    },
    {
     "name": "stderr",
     "output_type": "stream",
     "text": [
      "Epoch 162/230: 100%|██████████| 74/74 [00:12<00:00,  5.80it/s, kl=1.52, klw=0.001, loss=0.0203, recon=0.0188]\n"
     ]
    },
    {
     "name": "stdout",
     "output_type": "stream",
     "text": [
      "AVG LOSS: 0.021389\n",
      "Current learning rate: 8e-05\n"
     ]
    },
    {
     "name": "stderr",
     "output_type": "stream",
     "text": [
      "Epoch 163/230: 100%|██████████| 74/74 [00:12<00:00,  5.81it/s, kl=1.54, klw=0.001, loss=0.0224, recon=0.0209]\n"
     ]
    },
    {
     "name": "stdout",
     "output_type": "stream",
     "text": [
      "AVG LOSS: 0.021300\n",
      "Current learning rate: 8e-05\n"
     ]
    },
    {
     "name": "stderr",
     "output_type": "stream",
     "text": [
      "Epoch 164/230: 100%|██████████| 74/74 [00:12<00:00,  5.82it/s, kl=1.52, klw=0.001, loss=0.0223, recon=0.0208]\n"
     ]
    },
    {
     "name": "stdout",
     "output_type": "stream",
     "text": [
      "AVG LOSS: 0.021123\n",
      "Current learning rate: 8e-05\n"
     ]
    },
    {
     "name": "stderr",
     "output_type": "stream",
     "text": [
      "Epoch 165/230: 100%|██████████| 74/74 [00:12<00:00,  5.80it/s, kl=1.5, klw=0.001, loss=0.0198, recon=0.0183]\n"
     ]
    },
    {
     "name": "stdout",
     "output_type": "stream",
     "text": [
      "AVG LOSS: 0.021255\n",
      "Current learning rate: 8e-05\n"
     ]
    },
    {
     "name": "stderr",
     "output_type": "stream",
     "text": [
      "Epoch 166/230: 100%|██████████| 74/74 [00:12<00:00,  5.82it/s, kl=1.51, klw=0.001, loss=0.0207, recon=0.0192]\n"
     ]
    },
    {
     "name": "stdout",
     "output_type": "stream",
     "text": [
      "AVG LOSS: 0.021159\n",
      "Current learning rate: 8e-05\n"
     ]
    },
    {
     "name": "stderr",
     "output_type": "stream",
     "text": [
      "Epoch 167/230: 100%|██████████| 74/74 [00:12<00:00,  5.79it/s, kl=1.52, klw=0.001, loss=0.0222, recon=0.0207]\n"
     ]
    },
    {
     "name": "stdout",
     "output_type": "stream",
     "text": [
      "AVG LOSS: 0.021231\n",
      "Current learning rate: 8e-05\n"
     ]
    },
    {
     "name": "stderr",
     "output_type": "stream",
     "text": [
      "Epoch 168/230: 100%|██████████| 74/74 [00:12<00:00,  5.81it/s, kl=1.49, klw=0.001, loss=0.0206, recon=0.0191]\n"
     ]
    },
    {
     "name": "stdout",
     "output_type": "stream",
     "text": [
      "AVG LOSS: 0.021043\n",
      "Current learning rate: 8e-05\n"
     ]
    },
    {
     "name": "stderr",
     "output_type": "stream",
     "text": [
      "Epoch 169/230: 100%|██████████| 74/74 [00:12<00:00,  5.80it/s, kl=1.49, klw=0.001, loss=0.0215, recon=0.02]\n"
     ]
    },
    {
     "name": "stdout",
     "output_type": "stream",
     "text": [
      "AVG LOSS: 0.021020\n",
      "Current learning rate: 8e-05\n"
     ]
    },
    {
     "name": "stderr",
     "output_type": "stream",
     "text": [
      "Epoch 170/230: 100%|██████████| 74/74 [00:12<00:00,  5.83it/s, kl=1.53, klw=0.001, loss=0.0209, recon=0.0194]\n"
     ]
    },
    {
     "name": "stdout",
     "output_type": "stream",
     "text": [
      "AVG LOSS: 0.021022\n",
      "Current learning rate: 8e-05\n"
     ]
    },
    {
     "name": "stderr",
     "output_type": "stream",
     "text": [
      "Epoch 171/230: 100%|██████████| 74/74 [00:12<00:00,  5.81it/s, kl=1.52, klw=0.001, loss=0.0221, recon=0.0206]\n"
     ]
    },
    {
     "name": "stdout",
     "output_type": "stream",
     "text": [
      "AVG LOSS: 0.021032\n",
      "Current learning rate: 8e-05\n"
     ]
    },
    {
     "name": "stderr",
     "output_type": "stream",
     "text": [
      "Epoch 172/230: 100%|██████████| 74/74 [00:12<00:00,  5.80it/s, kl=1.5, klw=0.001, loss=0.0207, recon=0.0192]\n"
     ]
    },
    {
     "name": "stdout",
     "output_type": "stream",
     "text": [
      "AVG LOSS: 0.021055\n",
      "Current learning rate: 8e-05\n"
     ]
    },
    {
     "name": "stderr",
     "output_type": "stream",
     "text": [
      "Epoch 173/230: 100%|██████████| 74/74 [00:12<00:00,  5.80it/s, kl=1.5, klw=0.001, loss=0.0212, recon=0.0197]\n"
     ]
    },
    {
     "name": "stdout",
     "output_type": "stream",
     "text": [
      "AVG LOSS: 0.020914\n",
      "Current learning rate: 8e-05\n"
     ]
    },
    {
     "name": "stderr",
     "output_type": "stream",
     "text": [
      "Epoch 174/230: 100%|██████████| 74/74 [00:12<00:00,  5.82it/s, kl=1.52, klw=0.001, loss=0.0201, recon=0.0186]\n"
     ]
    },
    {
     "name": "stdout",
     "output_type": "stream",
     "text": [
      "AVG LOSS: 0.020992\n",
      "Current learning rate: 8e-05\n"
     ]
    },
    {
     "name": "stderr",
     "output_type": "stream",
     "text": [
      "Epoch 175/230: 100%|██████████| 74/74 [00:12<00:00,  5.82it/s, kl=1.54, klw=0.001, loss=0.0215, recon=0.02]\n"
     ]
    },
    {
     "name": "stdout",
     "output_type": "stream",
     "text": [
      "AVG LOSS: 0.020933\n",
      "Current learning rate: 8e-05\n"
     ]
    },
    {
     "name": "stderr",
     "output_type": "stream",
     "text": [
      "Epoch 176/230: 100%|██████████| 74/74 [00:12<00:00,  5.80it/s, kl=1.53, klw=0.001, loss=0.0226, recon=0.021]\n"
     ]
    },
    {
     "name": "stdout",
     "output_type": "stream",
     "text": [
      "AVG LOSS: 0.020978\n",
      "Current learning rate: 8e-05\n"
     ]
    },
    {
     "name": "stderr",
     "output_type": "stream",
     "text": [
      "Epoch 177/230: 100%|██████████| 74/74 [00:12<00:00,  5.84it/s, kl=1.52, klw=0.001, loss=0.0213, recon=0.0198]\n"
     ]
    },
    {
     "name": "stdout",
     "output_type": "stream",
     "text": [
      "AVG LOSS: 0.020810\n",
      "Current learning rate: 8e-05\n"
     ]
    },
    {
     "name": "stderr",
     "output_type": "stream",
     "text": [
      "Epoch 178/230: 100%|██████████| 74/74 [00:12<00:00,  5.82it/s, kl=1.51, klw=0.001, loss=0.0207, recon=0.0192]\n"
     ]
    },
    {
     "name": "stdout",
     "output_type": "stream",
     "text": [
      "AVG LOSS: 0.020784\n",
      "Current learning rate: 8e-05\n"
     ]
    },
    {
     "name": "stderr",
     "output_type": "stream",
     "text": [
      "Epoch 179/230: 100%|██████████| 74/74 [00:12<00:00,  5.83it/s, kl=1.52, klw=0.001, loss=0.0208, recon=0.0193]\n"
     ]
    },
    {
     "name": "stdout",
     "output_type": "stream",
     "text": [
      "AVG LOSS: 0.020759\n",
      "Current learning rate: 8e-05\n"
     ]
    },
    {
     "name": "stderr",
     "output_type": "stream",
     "text": [
      "Epoch 180/230: 100%|██████████| 74/74 [00:12<00:00,  5.80it/s, kl=1.49, klw=0.001, loss=0.0201, recon=0.0186]\n"
     ]
    },
    {
     "name": "stdout",
     "output_type": "stream",
     "text": [
      "AVG LOSS: 0.020816\n",
      "Current learning rate: 8e-05\n"
     ]
    },
    {
     "name": "stderr",
     "output_type": "stream",
     "text": [
      "Epoch 181/230: 100%|██████████| 74/74 [00:12<00:00,  5.78it/s, kl=1.51, klw=0.001, loss=0.0211, recon=0.0196]\n"
     ]
    },
    {
     "name": "stdout",
     "output_type": "stream",
     "text": [
      "AVG LOSS: 0.020791\n",
      "Current learning rate: 8e-05\n"
     ]
    },
    {
     "name": "stderr",
     "output_type": "stream",
     "text": [
      "Epoch 182/230: 100%|██████████| 74/74 [00:12<00:00,  5.83it/s, kl=1.49, klw=0.001, loss=0.0181, recon=0.0166]\n"
     ]
    },
    {
     "name": "stdout",
     "output_type": "stream",
     "text": [
      "AVG LOSS: 0.020614\n",
      "Current learning rate: 8e-05\n"
     ]
    },
    {
     "name": "stderr",
     "output_type": "stream",
     "text": [
      "Epoch 183/230: 100%|██████████| 74/74 [00:12<00:00,  5.82it/s, kl=1.48, klw=0.001, loss=0.0203, recon=0.0189]\n"
     ]
    },
    {
     "name": "stdout",
     "output_type": "stream",
     "text": [
      "AVG LOSS: 0.020748\n",
      "Current learning rate: 8e-05\n"
     ]
    },
    {
     "name": "stderr",
     "output_type": "stream",
     "text": [
      "Epoch 184/230: 100%|██████████| 74/74 [00:12<00:00,  5.82it/s, kl=1.5, klw=0.001, loss=0.0193, recon=0.0178]\n"
     ]
    },
    {
     "name": "stdout",
     "output_type": "stream",
     "text": [
      "AVG LOSS: 0.020528\n",
      "Current learning rate: 8e-05\n"
     ]
    },
    {
     "name": "stderr",
     "output_type": "stream",
     "text": [
      "Epoch 185/230: 100%|██████████| 74/74 [00:12<00:00,  5.82it/s, kl=1.51, klw=0.001, loss=0.0209, recon=0.0194]\n"
     ]
    },
    {
     "name": "stdout",
     "output_type": "stream",
     "text": [
      "AVG LOSS: 0.020532\n",
      "Current learning rate: 8e-05\n"
     ]
    },
    {
     "name": "stderr",
     "output_type": "stream",
     "text": [
      "Epoch 186/230: 100%|██████████| 74/74 [00:12<00:00,  5.83it/s, kl=1.5, klw=0.001, loss=0.0198, recon=0.0183]\n"
     ]
    },
    {
     "name": "stdout",
     "output_type": "stream",
     "text": [
      "AVG LOSS: 0.020646\n",
      "Current learning rate: 8e-05\n"
     ]
    },
    {
     "name": "stderr",
     "output_type": "stream",
     "text": [
      "Epoch 187/230: 100%|██████████| 74/74 [00:12<00:00,  5.83it/s, kl=1.51, klw=0.001, loss=0.0209, recon=0.0194]\n"
     ]
    },
    {
     "name": "stdout",
     "output_type": "stream",
     "text": [
      "AVG LOSS: 0.020585\n",
      "Current learning rate: 8e-05\n"
     ]
    },
    {
     "name": "stderr",
     "output_type": "stream",
     "text": [
      "Epoch 188/230: 100%|██████████| 74/74 [00:12<00:00,  5.82it/s, kl=1.48, klw=0.001, loss=0.0187, recon=0.0173]\n"
     ]
    },
    {
     "name": "stdout",
     "output_type": "stream",
     "text": [
      "AVG LOSS: 0.020384\n",
      "Current learning rate: 8e-05\n"
     ]
    },
    {
     "name": "stderr",
     "output_type": "stream",
     "text": [
      "Epoch 189/230: 100%|██████████| 74/74 [00:12<00:00,  5.80it/s, kl=1.51, klw=0.001, loss=0.0197, recon=0.0182]\n"
     ]
    },
    {
     "name": "stdout",
     "output_type": "stream",
     "text": [
      "AVG LOSS: 0.020400\n",
      "Current learning rate: 8e-05\n"
     ]
    },
    {
     "name": "stderr",
     "output_type": "stream",
     "text": [
      "Epoch 190/230: 100%|██████████| 74/74 [00:12<00:00,  5.81it/s, kl=1.52, klw=0.001, loss=0.0216, recon=0.0201]\n"
     ]
    },
    {
     "name": "stdout",
     "output_type": "stream",
     "text": [
      "AVG LOSS: 0.020455\n",
      "Current learning rate: 8e-05\n"
     ]
    },
    {
     "name": "stderr",
     "output_type": "stream",
     "text": [
      "Epoch 191/230: 100%|██████████| 74/74 [00:12<00:00,  5.80it/s, kl=1.52, klw=0.001, loss=0.0217, recon=0.0202]\n"
     ]
    },
    {
     "name": "stdout",
     "output_type": "stream",
     "text": [
      "AVG LOSS: 0.020374\n",
      "Current learning rate: 8e-05\n"
     ]
    },
    {
     "name": "stderr",
     "output_type": "stream",
     "text": [
      "Epoch 192/230: 100%|██████████| 74/74 [00:12<00:00,  5.81it/s, kl=1.51, klw=0.001, loss=0.0208, recon=0.0193]\n"
     ]
    },
    {
     "name": "stdout",
     "output_type": "stream",
     "text": [
      "AVG LOSS: 0.020354\n",
      "Current learning rate: 8e-05\n"
     ]
    },
    {
     "name": "stderr",
     "output_type": "stream",
     "text": [
      "Epoch 193/230: 100%|██████████| 74/74 [00:12<00:00,  5.79it/s, kl=1.51, klw=0.001, loss=0.021, recon=0.0195]\n"
     ]
    },
    {
     "name": "stdout",
     "output_type": "stream",
     "text": [
      "AVG LOSS: 0.020298\n",
      "Current learning rate: 8e-05\n"
     ]
    },
    {
     "name": "stderr",
     "output_type": "stream",
     "text": [
      "Epoch 194/230: 100%|██████████| 74/74 [00:12<00:00,  5.82it/s, kl=1.52, klw=0.001, loss=0.0216, recon=0.0201]\n"
     ]
    },
    {
     "name": "stdout",
     "output_type": "stream",
     "text": [
      "AVG LOSS: 0.020284\n",
      "Current learning rate: 8e-05\n"
     ]
    },
    {
     "name": "stderr",
     "output_type": "stream",
     "text": [
      "Epoch 195/230: 100%|██████████| 74/74 [00:12<00:00,  5.81it/s, kl=1.51, klw=0.001, loss=0.0211, recon=0.0196]\n"
     ]
    },
    {
     "name": "stdout",
     "output_type": "stream",
     "text": [
      "AVG LOSS: 0.020301\n",
      "Current learning rate: 8e-05\n"
     ]
    },
    {
     "name": "stderr",
     "output_type": "stream",
     "text": [
      "Epoch 196/230: 100%|██████████| 74/74 [00:12<00:00,  5.80it/s, kl=1.45, klw=0.001, loss=0.0178, recon=0.0164]\n"
     ]
    },
    {
     "name": "stdout",
     "output_type": "stream",
     "text": [
      "AVG LOSS: 0.020215\n",
      "Current learning rate: 8e-05\n"
     ]
    },
    {
     "name": "stderr",
     "output_type": "stream",
     "text": [
      "Epoch 197/230: 100%|██████████| 74/74 [00:12<00:00,  5.80it/s, kl=1.53, klw=0.001, loss=0.0216, recon=0.02]\n"
     ]
    },
    {
     "name": "stdout",
     "output_type": "stream",
     "text": [
      "AVG LOSS: 0.020124\n",
      "Current learning rate: 8e-05\n"
     ]
    },
    {
     "name": "stderr",
     "output_type": "stream",
     "text": [
      "Epoch 198/230: 100%|██████████| 74/74 [00:12<00:00,  5.83it/s, kl=1.5, klw=0.001, loss=0.0216, recon=0.0201]\n"
     ]
    },
    {
     "name": "stdout",
     "output_type": "stream",
     "text": [
      "AVG LOSS: 0.020196\n",
      "Current learning rate: 8e-05\n"
     ]
    },
    {
     "name": "stderr",
     "output_type": "stream",
     "text": [
      "Epoch 199/230: 100%|██████████| 74/74 [00:12<00:00,  5.80it/s, kl=1.5, klw=0.001, loss=0.0193, recon=0.0178]\n"
     ]
    },
    {
     "name": "stdout",
     "output_type": "stream",
     "text": [
      "AVG LOSS: 0.020135\n",
      "Current learning rate: 8e-05\n"
     ]
    },
    {
     "name": "stderr",
     "output_type": "stream",
     "text": [
      "Epoch 200/230: 100%|██████████| 74/74 [00:12<00:00,  5.81it/s, kl=1.53, klw=0.001, loss=0.021, recon=0.0195]\n"
     ]
    },
    {
     "name": "stdout",
     "output_type": "stream",
     "text": [
      "AVG LOSS: 0.020147\n",
      "Current learning rate: 8e-05\n"
     ]
    },
    {
     "name": "stderr",
     "output_type": "stream",
     "text": [
      "Epoch 201/230: 100%|██████████| 74/74 [00:12<00:00,  5.83it/s, kl=1.51, klw=0.001, loss=0.0196, recon=0.0181]\n"
     ]
    },
    {
     "name": "stdout",
     "output_type": "stream",
     "text": [
      "AVG LOSS: 0.020017\n",
      "Current learning rate: 8e-05\n"
     ]
    },
    {
     "name": "stderr",
     "output_type": "stream",
     "text": [
      "Epoch 202/230: 100%|██████████| 74/74 [00:12<00:00,  5.82it/s, kl=1.49, klw=0.001, loss=0.019, recon=0.0175]\n"
     ]
    },
    {
     "name": "stdout",
     "output_type": "stream",
     "text": [
      "AVG LOSS: 0.019993\n",
      "Current learning rate: 8e-05\n"
     ]
    },
    {
     "name": "stderr",
     "output_type": "stream",
     "text": [
      "Epoch 203/230: 100%|██████████| 74/74 [00:12<00:00,  5.82it/s, kl=1.47, klw=0.001, loss=0.0201, recon=0.0187]\n"
     ]
    },
    {
     "name": "stdout",
     "output_type": "stream",
     "text": [
      "AVG LOSS: 0.019966\n",
      "Current learning rate: 8e-05\n"
     ]
    },
    {
     "name": "stderr",
     "output_type": "stream",
     "text": [
      "Epoch 204/230: 100%|██████████| 74/74 [00:12<00:00,  5.80it/s, kl=1.5, klw=0.001, loss=0.0201, recon=0.0186]\n"
     ]
    },
    {
     "name": "stdout",
     "output_type": "stream",
     "text": [
      "AVG LOSS: 0.019994\n",
      "Current learning rate: 8e-05\n"
     ]
    },
    {
     "name": "stderr",
     "output_type": "stream",
     "text": [
      "Epoch 205/230: 100%|██████████| 74/74 [00:12<00:00,  5.80it/s, kl=1.45, klw=0.001, loss=0.0211, recon=0.0197]\n"
     ]
    },
    {
     "name": "stdout",
     "output_type": "stream",
     "text": [
      "AVG LOSS: 0.019901\n",
      "Current learning rate: 8e-05\n"
     ]
    },
    {
     "name": "stderr",
     "output_type": "stream",
     "text": [
      "Epoch 206/230: 100%|██████████| 74/74 [00:12<00:00,  5.85it/s, kl=1.51, klw=0.001, loss=0.0224, recon=0.0209]\n"
     ]
    },
    {
     "name": "stdout",
     "output_type": "stream",
     "text": [
      "AVG LOSS: 0.019995\n",
      "Current learning rate: 8e-05\n"
     ]
    },
    {
     "name": "stderr",
     "output_type": "stream",
     "text": [
      "Epoch 207/230: 100%|██████████| 74/74 [00:12<00:00,  5.82it/s, kl=1.51, klw=0.001, loss=0.0187, recon=0.0172]\n"
     ]
    },
    {
     "name": "stdout",
     "output_type": "stream",
     "text": [
      "AVG LOSS: 0.019911\n",
      "Current learning rate: 8e-05\n"
     ]
    },
    {
     "name": "stderr",
     "output_type": "stream",
     "text": [
      "Epoch 208/230: 100%|██████████| 74/74 [00:12<00:00,  5.82it/s, kl=1.44, klw=0.001, loss=0.0189, recon=0.0175]\n"
     ]
    },
    {
     "name": "stdout",
     "output_type": "stream",
     "text": [
      "AVG LOSS: 0.019799\n",
      "Current learning rate: 8e-05\n"
     ]
    },
    {
     "name": "stderr",
     "output_type": "stream",
     "text": [
      "Epoch 209/230: 100%|██████████| 74/74 [00:12<00:00,  5.78it/s, kl=1.45, klw=0.001, loss=0.0186, recon=0.0171]\n"
     ]
    },
    {
     "name": "stdout",
     "output_type": "stream",
     "text": [
      "AVG LOSS: 0.019801\n",
      "Current learning rate: 8e-05\n"
     ]
    },
    {
     "name": "stderr",
     "output_type": "stream",
     "text": [
      "Epoch 210/230: 100%|██████████| 74/74 [00:12<00:00,  5.79it/s, kl=1.48, klw=0.001, loss=0.0203, recon=0.0189]\n"
     ]
    },
    {
     "name": "stdout",
     "output_type": "stream",
     "text": [
      "AVG LOSS: 0.019816\n",
      "Current learning rate: 8e-05\n"
     ]
    },
    {
     "name": "stderr",
     "output_type": "stream",
     "text": [
      "Epoch 211/230: 100%|██████████| 74/74 [00:12<00:00,  5.79it/s, kl=1.5, klw=0.001, loss=0.0203, recon=0.0188]\n"
     ]
    },
    {
     "name": "stdout",
     "output_type": "stream",
     "text": [
      "AVG LOSS: 0.019816\n",
      "Current learning rate: 8e-05\n"
     ]
    },
    {
     "name": "stderr",
     "output_type": "stream",
     "text": [
      "Epoch 212/230: 100%|██████████| 74/74 [00:12<00:00,  5.81it/s, kl=1.46, klw=0.001, loss=0.0179, recon=0.0164]\n"
     ]
    },
    {
     "name": "stdout",
     "output_type": "stream",
     "text": [
      "AVG LOSS: 0.019725\n",
      "Current learning rate: 8e-05\n"
     ]
    },
    {
     "name": "stderr",
     "output_type": "stream",
     "text": [
      "Epoch 213/230: 100%|██████████| 74/74 [00:12<00:00,  5.83it/s, kl=1.49, klw=0.001, loss=0.0192, recon=0.0177]\n"
     ]
    },
    {
     "name": "stdout",
     "output_type": "stream",
     "text": [
      "AVG LOSS: 0.019758\n",
      "Current learning rate: 8e-05\n"
     ]
    },
    {
     "name": "stderr",
     "output_type": "stream",
     "text": [
      "Epoch 214/230: 100%|██████████| 74/74 [00:12<00:00,  5.83it/s, kl=1.52, klw=0.001, loss=0.0211, recon=0.0196]\n"
     ]
    },
    {
     "name": "stdout",
     "output_type": "stream",
     "text": [
      "AVG LOSS: 0.019702\n",
      "Current learning rate: 8e-05\n"
     ]
    },
    {
     "name": "stderr",
     "output_type": "stream",
     "text": [
      "Epoch 215/230: 100%|██████████| 74/74 [00:12<00:00,  5.80it/s, kl=1.45, klw=0.001, loss=0.0186, recon=0.0172]\n"
     ]
    },
    {
     "name": "stdout",
     "output_type": "stream",
     "text": [
      "AVG LOSS: 0.019833\n",
      "Current learning rate: 8e-05\n"
     ]
    },
    {
     "name": "stderr",
     "output_type": "stream",
     "text": [
      "Epoch 216/230: 100%|██████████| 74/74 [00:12<00:00,  5.84it/s, kl=1.48, klw=0.001, loss=0.0198, recon=0.0183]\n"
     ]
    },
    {
     "name": "stdout",
     "output_type": "stream",
     "text": [
      "AVG LOSS: 0.019699\n",
      "Current learning rate: 8e-05\n"
     ]
    },
    {
     "name": "stderr",
     "output_type": "stream",
     "text": [
      "Epoch 217/230: 100%|██████████| 74/74 [00:12<00:00,  5.82it/s, kl=1.46, klw=0.001, loss=0.0193, recon=0.0179]\n"
     ]
    },
    {
     "name": "stdout",
     "output_type": "stream",
     "text": [
      "AVG LOSS: 0.019684\n",
      "Current learning rate: 8e-05\n"
     ]
    },
    {
     "name": "stderr",
     "output_type": "stream",
     "text": [
      "Epoch 218/230: 100%|██████████| 74/74 [00:12<00:00,  5.82it/s, kl=1.51, klw=0.001, loss=0.0203, recon=0.0188]\n"
     ]
    },
    {
     "name": "stdout",
     "output_type": "stream",
     "text": [
      "AVG LOSS: 0.019617\n",
      "Current learning rate: 8e-05\n"
     ]
    },
    {
     "name": "stderr",
     "output_type": "stream",
     "text": [
      "Epoch 219/230: 100%|██████████| 74/74 [00:12<00:00,  5.81it/s, kl=1.5, klw=0.001, loss=0.019, recon=0.0175]\n"
     ]
    },
    {
     "name": "stdout",
     "output_type": "stream",
     "text": [
      "AVG LOSS: 0.019577\n",
      "Current learning rate: 8e-05\n"
     ]
    },
    {
     "name": "stderr",
     "output_type": "stream",
     "text": [
      "Epoch 220/230: 100%|██████████| 74/74 [00:12<00:00,  5.80it/s, kl=1.49, klw=0.001, loss=0.0214, recon=0.0199]\n"
     ]
    },
    {
     "name": "stdout",
     "output_type": "stream",
     "text": [
      "AVG LOSS: 0.019645\n",
      "Current learning rate: 8e-05\n"
     ]
    },
    {
     "name": "stderr",
     "output_type": "stream",
     "text": [
      "Epoch 221/230: 100%|██████████| 74/74 [00:12<00:00,  5.81it/s, kl=1.46, klw=0.001, loss=0.0195, recon=0.018]\n"
     ]
    },
    {
     "name": "stdout",
     "output_type": "stream",
     "text": [
      "AVG LOSS: 0.019468\n",
      "Current learning rate: 8e-05\n"
     ]
    },
    {
     "name": "stderr",
     "output_type": "stream",
     "text": [
      "Epoch 222/230: 100%|██████████| 74/74 [00:12<00:00,  5.82it/s, kl=1.51, klw=0.001, loss=0.0202, recon=0.0187]\n"
     ]
    },
    {
     "name": "stdout",
     "output_type": "stream",
     "text": [
      "AVG LOSS: 0.019451\n",
      "Current learning rate: 8e-05\n"
     ]
    },
    {
     "name": "stderr",
     "output_type": "stream",
     "text": [
      "Epoch 223/230: 100%|██████████| 74/74 [00:12<00:00,  5.83it/s, kl=1.52, klw=0.001, loss=0.0204, recon=0.0188]\n"
     ]
    },
    {
     "name": "stdout",
     "output_type": "stream",
     "text": [
      "AVG LOSS: 0.019492\n",
      "Current learning rate: 8e-05\n"
     ]
    },
    {
     "name": "stderr",
     "output_type": "stream",
     "text": [
      "Epoch 224/230: 100%|██████████| 74/74 [00:12<00:00,  5.79it/s, kl=1.5, klw=0.001, loss=0.0202, recon=0.0187]\n"
     ]
    },
    {
     "name": "stdout",
     "output_type": "stream",
     "text": [
      "AVG LOSS: 0.019384\n",
      "Current learning rate: 8e-05\n"
     ]
    },
    {
     "name": "stderr",
     "output_type": "stream",
     "text": [
      "Epoch 225/230: 100%|██████████| 74/74 [00:12<00:00,  5.82it/s, kl=1.49, klw=0.001, loss=0.0197, recon=0.0182]\n"
     ]
    },
    {
     "name": "stdout",
     "output_type": "stream",
     "text": [
      "AVG LOSS: 0.019352\n",
      "Current learning rate: 8e-05\n"
     ]
    },
    {
     "name": "stderr",
     "output_type": "stream",
     "text": [
      "Epoch 226/230: 100%|██████████| 74/74 [00:12<00:00,  5.81it/s, kl=1.51, klw=0.001, loss=0.0197, recon=0.0182]\n"
     ]
    },
    {
     "name": "stdout",
     "output_type": "stream",
     "text": [
      "AVG LOSS: 0.019389\n",
      "Current learning rate: 8e-05\n"
     ]
    },
    {
     "name": "stderr",
     "output_type": "stream",
     "text": [
      "Epoch 227/230: 100%|██████████| 74/74 [00:12<00:00,  5.82it/s, kl=1.51, klw=0.001, loss=0.0202, recon=0.0187]\n"
     ]
    },
    {
     "name": "stdout",
     "output_type": "stream",
     "text": [
      "AVG LOSS: 0.019369\n",
      "Current learning rate: 8e-05\n"
     ]
    },
    {
     "name": "stderr",
     "output_type": "stream",
     "text": [
      "Epoch 228/230: 100%|██████████| 74/74 [00:12<00:00,  5.82it/s, kl=1.49, klw=0.001, loss=0.0197, recon=0.0182]\n"
     ]
    },
    {
     "name": "stdout",
     "output_type": "stream",
     "text": [
      "AVG LOSS: 0.019461\n",
      "Current learning rate: 8e-05\n"
     ]
    },
    {
     "name": "stderr",
     "output_type": "stream",
     "text": [
      "Epoch 229/230: 100%|██████████| 74/74 [00:12<00:00,  5.82it/s, kl=1.48, klw=0.001, loss=0.0186, recon=0.0172]\n"
     ]
    },
    {
     "name": "stdout",
     "output_type": "stream",
     "text": [
      "AVG LOSS: 0.019278\n",
      "Current learning rate: 8e-05\n"
     ]
    },
    {
     "name": "stderr",
     "output_type": "stream",
     "text": [
      "Epoch 230/230: 100%|██████████| 74/74 [00:12<00:00,  5.82it/s, kl=1.51, klw=0.001, loss=0.0202, recon=0.0186]\n"
     ]
    },
    {
     "name": "stdout",
     "output_type": "stream",
     "text": [
      "AVG LOSS: 0.019268\n",
      "Latent bottleneck dimension: 8192\n"
     ]
    },
    {
     "data": {
      "image/png": "[encoded data removed]",
      "text/plain": [
       "<Figure size 1600x400 with 16 Axes>"
      ]
     },
     "metadata": {},
     "output_type": "display_data"
    }
   ],
   "source": [
    "# device = torch.device(\"cuda\" if torch.cuda.is_available() else \"cpu\")\n",
    "\n",
    "import torch\n",
    "import random\n",
    "import numpy as np\n",
    "\n",
    "# Set a fixed random seed for reproducibility\n",
    "SEED = 42\n",
    "random.seed(SEED)\n",
    "np.random.seed(SEED)\n",
    "torch.manual_seed(SEED)\n",
    "if torch.cuda.is_available():\n",
    "    torch.cuda.manual_seed(SEED)\n",
    "    torch.cuda.manual_seed_all(SEED)\n",
    "torch.backends.cudnn.deterministic = True\n",
    "torch.backends.cudnn.benchmark = False\n",
    "\n",
    "from torch.utils.data import Dataset, DataLoader\n",
    "from torchvision import transforms\n",
    "from PIL import Image\n",
    "\n",
    "class CustomDataset(Dataset):\n",
    "    def __init__(self, npz_path):\n",
    "        npz_data = np.load(npz_path)\n",
    "        self.images = npz_data[\"images\"] # (N, 3, 128, 128) in np.uint8\n",
    "        self.labels = npz_data[\"labels\"] # (N,) in np.int64\n",
    "        assert self.images.shape[0] == self.labels.shape[0]\n",
    "        print(f\"{npz_path}: images shape {self.images.shape}, \"\n",
    "              f\"labels shape {self.labels.shape}\")\n",
    "\n",
    "    def __len__(self):\n",
    "        return len(self.labels)\n",
    "\n",
    "    def __getitem__(self, idx):\n",
    "        image = torch.tensor(self.images[idx]) / 255 # convert to [0, 1] range\n",
    "        label = torch.tensor(self.labels[idx])\n",
    "        return image, label\n",
    "\n",
    "train_dataset = CustomDataset(\"train.npz\")\n",
    "train_loader = DataLoader(train_dataset, batch_size=256, shuffle=True, num_workers=8)\n",
    "\n",
    "# sample data batch\n",
    "images, labels = next(iter(train_loader))\n",
    "print(f\"images shape: {images.shape}\")\n",
    "print(f\"labels shape: {labels.shape}\")\n",
    "\n",
    "import matplotlib.pyplot as plt\n",
    "import torch.nn as nn\n",
    "import torch.nn.functional as F\n",
    "import torch.optim as optim\n",
    "import matplotlib.pyplot as plt\n",
    "import torch.nn.functional as F\n",
    "from tqdm import tqdm\n",
    "import os\n",
    "\n",
    "\n",
    "class ResidualBlock(nn.Module):\n",
    "    \"\"\"简单的残差块，增强特征表达能力并稳定训练。\"\"\"\n",
    "    def __init__(self, channels):\n",
    "        super().__init__()\n",
    "        self.conv1 = nn.Conv2d(channels, channels, kernel_size=3, stride=1, padding=1)\n",
    "        self.bn1   = nn.BatchNorm2d(channels)\n",
    "        self.conv2 = nn.Conv2d(channels, channels, kernel_size=3, stride=1, padding=1)\n",
    "        self.bn2   = nn.BatchNorm2d(channels)\n",
    "        self.relu  = nn.ReLU(inplace=True)\n",
    "\n",
    "    def forward(self, x):\n",
    "        identity = x\n",
    "        out = self.conv1(x)\n",
    "        out = self.bn1(out)\n",
    "        out = self.relu(out)\n",
    "        out = self.conv2(out)\n",
    "        out = self.bn2(out)\n",
    "        out += identity\n",
    "        return self.relu(out)\n",
    "\n",
    "\n",
    "class Model(nn.Module):\n",
    "    def __init__(self, input_channels=3, latent_channels=8):\n",
    "        super().__init__()\n",
    "\n",
    "        # --- Encoder ---\n",
    "        self.encoder = nn.Sequential(\n",
    "            nn.Conv2d(input_channels, 64, kernel_size=3, stride=2, padding=1),  # -> 64 x 64 x 64\n",
    "            nn.BatchNorm2d(64),\n",
    "            nn.ReLU(inplace=True),\n",
    "            ResidualBlock(64),\n",
    "\n",
    "            nn.Conv2d(64, 128, kernel_size=3, stride=2, padding=1),             # -> 128 x 32 x 32\n",
    "            nn.BatchNorm2d(128),\n",
    "            nn.ReLU(inplace=True),\n",
    "            ResidualBlock(128),\n",
    "\n",
    "            nn.Conv2d(128, 256, kernel_size=3, stride=1, padding=1),            # -> 256 x 32 x 32\n",
    "            nn.BatchNorm2d(256),\n",
    "            nn.ReLU(inplace=True),\n",
    "            ResidualBlock(256),\n",
    "        )\n",
    "\n",
    "        # --- Quantization conv ---\n",
    "        # 将特征映射到 latent_channels*2，用于 mean 和 logvar\n",
    "        self.quant_conv = nn.Conv2d(256, latent_channels * 2, kernel_size=1)\n",
    "\n",
    "        # --- Decoder ---\n",
    "        self.post_quant_conv = nn.Conv2d(latent_channels, 256, kernel_size=1)\n",
    "\n",
    "        self.decoder = nn.Sequential(\n",
    "            nn.Conv2d(256, 128, kernel_size=3, stride=1, padding=1),            # -> 128 x 32 x 32\n",
    "            nn.BatchNorm2d(128),\n",
    "            nn.ReLU(inplace=True),\n",
    "            ResidualBlock(128),\n",
    "\n",
    "            nn.ConvTranspose2d(128, 64, kernel_size=4, stride=2, padding=1),    # -> 64 x 64 x 64\n",
    "            nn.BatchNorm2d(64),\n",
    "            nn.ReLU(inplace=True),\n",
    "            ResidualBlock(64),\n",
    "\n",
    "            nn.ConvTranspose2d(64, input_channels, kernel_size=4, stride=2, padding=1), # -> 3 x 128 x 128\n",
    "            nn.Sigmoid()\n",
    "        )\n",
    "\n",
    "    def preprocess(self, x):\n",
    "        # 归一化到 [-1, 1]，有助于模型学习颜色对比度\n",
    "        return 2 * x - 1\n",
    "\n",
    "    def encode(self, x):\n",
    "        x = self.preprocess(x)\n",
    "        h = self.encoder(x)\n",
    "        h = self.quant_conv(h)\n",
    "        mean, logvar = torch.chunk(h, 2, dim=1)\n",
    "        if self.training:\n",
    "            logvar = logvar.clamp(-30.0, 20.0)\n",
    "            std = torch.exp(0.5 * logvar)\n",
    "            eps = torch.randn_like(std)\n",
    "            z = mean + eps * std\n",
    "        else:\n",
    "            z = mean\n",
    "        return z, mean, logvar\n",
    "\n",
    "    def decode(self, z):\n",
    "        h = self.post_quant_conv(z)\n",
    "        x_recon = self.decoder(h)\n",
    "        return x_recon\n",
    "\n",
    "    def forward(self, x):\n",
    "        z, mean, logvar = self.encode(x)\n",
    "        x_recon = self.decode(z)\n",
    "        return x_recon, z, mean, logvar\n",
    "\n",
    "\n",
    "\n",
    "\n",
    "\n",
    "\n",
    "\n",
    "\n",
    "# ----- Loss Function -----\n",
    "import pytorch_msssim\n",
    "\n",
    "def vae_loss(x, x_recon, mean, logvar, kl_weight=0.1):\n",
    "    recon_loss = 1 - pytorch_msssim.ssim(x, x_recon, data_range=1, size_average=True)\n",
    "    # recon_loss = F.l1_loss(x, x_recon, reduction='mean')  # 使用L1损失\n",
    "    kl_loss = -0.5 * torch.mean(1 + logvar - mean.pow(2) - logvar.exp())\n",
    "    final_loss = recon_loss + kl_weight * kl_loss\n",
    "    return final_loss, recon_loss, kl_loss\n",
    "\n",
    "# ----- Checkpoint Save/Load -----\n",
    "def save_checkpoint(model, optimizer, epoch, path=\"checkpoint.pth\"):\n",
    "    torch.save({\n",
    "        'epoch': epoch,\n",
    "        'model_state_dict': model.state_dict(),\n",
    "        'optimizer_state_dict': optimizer.state_dict()\n",
    "    }, path)\n",
    "\n",
    "def load_checkpoint(model, optimizer, path=\"checkpoint.pth\", device=\"cpu\"):\n",
    "    if os.path.exists(path):\n",
    "        checkpoint = torch.load(path, map_location=device)\n",
    "        model.load_state_dict(checkpoint['model_state_dict'])\n",
    "        optimizer.load_state_dict(checkpoint['optimizer_state_dict'])\n",
    "        start_epoch = checkpoint['epoch'] + 1\n",
    "        print(f\"Resuming from epoch {start_epoch}\")\n",
    "        return start_epoch\n",
    "    else:\n",
    "        return 0\n",
    "\n",
    "def validate_vae(model, dataloader, device):\n",
    "    model.eval()\n",
    "    val_loss = 0\n",
    "    with torch.no_grad():\n",
    "        for images, labels in dataloader:\n",
    "            x = images.to(device)\n",
    "            x_recon, z, mean, logvar = model(x)\n",
    "            loss, _, _ = vae_loss(x, x_recon, mean, logvar)\n",
    "            val_loss += loss.item()\n",
    "    return val_loss / len(dataloader)\n",
    "\n",
    "# ----- Training -----\n",
    "def train_vae(model, dataloader, optimizer, device, num_epochs=1, scheduler=None, val_loader=None, start_epoch=0, checkpoint_path=\"checkpoint.pth\"):\n",
    "    model.train()\n",
    "    for epoch in range(start_epoch, num_epochs):\n",
    "        print(\"Current learning rate:\", optimizer.param_groups[0]['lr'])\n",
    "        kl_weight = min(0.001, epoch / 20 * 0.001)\n",
    "        loop = tqdm(dataloader, desc=f\"Epoch {epoch+1}/{num_epochs}\")\n",
    "        epoch_loss = 0\n",
    "        for images, labels in loop:\n",
    "            x, labels = images.to(device), labels.to(device)\n",
    "            optimizer.zero_grad()\n",
    "            x_recon, z, mean, logvar = model(x)\n",
    "            loss, recon_loss, kl_loss = vae_loss(x, x_recon, mean, logvar, kl_weight=kl_weight)\n",
    "            loss.backward()\n",
    "            optimizer.step()\n",
    "            epoch_loss += loss.item()\n",
    "            loop.set_postfix(loss=loss.item(), recon=recon_loss.item(), kl=kl_loss.item(), klw=kl_weight)\n",
    "        avg_loss = epoch_loss / len(dataloader)\n",
    "        print(\"AVG LOSS: {:.6f}\".format(avg_loss))\n",
    "        # 用训练集loss驱动学习率调度\n",
    "        if scheduler is not None:\n",
    "            scheduler.step(avg_loss)\n",
    "        save_checkpoint(model, optimizer, epoch, path=checkpoint_path)\n",
    "        torch.save(model.state_dict(), \"weights.pt\")\n",
    "        torch.cuda.empty_cache()\n",
    "# Device\n",
    "device = torch.device(\"cuda\" if torch.cuda.is_available() else \"cpu\")\n",
    "\n",
    "# Model\n",
    "model = Model().to(device)\n",
    "# optimizer = optim.Adam(model.parameters(), lr=1e-4)  # 提高学习率\n",
    "# scheduler = optim.lr_scheduler.CosineAnnealingLR(optimizer, T_max=20)  # 更好调度\n",
    "optimizer = optim.Adam(model.parameters(), lr=1e-4)\n",
    "scheduler = optim.lr_scheduler.ReduceLROnPlateau(optimizer, mode='min', factor=0.8, patience=3)\n",
    "\n",
    "\n",
    "# 断点续训\n",
    "start_epoch = load_checkpoint(model, optimizer, path=\"checkpoint.pth\", device=device)\n",
    "\n",
    "# Train\n",
    "train_vae(model, train_loader, optimizer, device, num_epochs=230, scheduler=scheduler, start_epoch=start_epoch, checkpoint_path=\"checkpoint.pth\")\n",
    "\n",
    "# ----- Visualization -----\n",
    "def plot_reconstructions(model, dataloader, device, num_images=8):\n",
    "    model.eval()\n",
    "    with torch.no_grad():\n",
    "        x = next(iter(dataloader))[0].to(device)\n",
    "        x_recon, z, _, _ = model(x)\n",
    "        x = x.cpu().numpy()\n",
    "        x_recon = x_recon.cpu().numpy()\n",
    "        print(f\"Latent bottleneck dimension: {z.flatten(start_dim=1).shape[1]}\")\n",
    "\n",
    "        plt.figure(figsize=(16, 4))\n",
    "        for i in range(num_images):\n",
    "            # Original\n",
    "            plt.subplot(2, num_images, i+1)\n",
    "            plt.imshow(x[i].transpose(1, 2, 0))  # (C, H, W) -> (H, W, C)\n",
    "            plt.axis('off')\n",
    "\n",
    "            # Reconstruction\n",
    "            plt.subplot(2, num_images, i+1+num_images)\n",
    "            plt.imshow(x_recon[i].transpose(1, 2, 0))\n",
    "            plt.axis('off')\n",
    "\n",
    "        plt.tight_layout()\n",
    "        plt.savefig(\"reconstructions.png\")  # 保存图片\n",
    "        # plt.show()\n",
    "    torch.cuda.empty_cache()\n",
    "\n",
    "plot_reconstructions(model, train_loader, device, num_images=8)"
   ]
  }
 ],
 "metadata": {
  "accelerator": "GPU",
  "colab": {
   "authorship_tag": "ABX9TyOYWL7Ay4u5bW11ok9e2m/z",
   "gpuType": "A100",
   "machine_shape": "hm",
   "provenance": []
  },
  "kernelspec": {
   "display_name": "cuda12",
   "language": "python",
   "name": "python3"
  },
  "language_info": {
   "name": "python",
   "version": "3.13.2"
  }
 },
 "nbformat": 4,
 "nbformat_minor": 0
}
